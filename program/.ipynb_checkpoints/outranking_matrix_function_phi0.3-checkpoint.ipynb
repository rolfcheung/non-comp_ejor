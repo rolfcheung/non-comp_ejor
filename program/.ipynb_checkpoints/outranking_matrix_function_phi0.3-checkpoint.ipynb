{
 "cells": [
  {
   "cell_type": "code",
   "execution_count": 638,
   "metadata": {},
   "outputs": [
    {
     "name": "stdout",
     "output_type": "stream",
     "text": [
      "Once deleted, variables cannot be recovered. Proceed (y/[n])? y\n"
     ]
    }
   ],
   "source": [
    "%reset"
   ]
  },
  {
   "cell_type": "code",
   "execution_count": 639,
   "metadata": {
    "collapsed": true
   },
   "outputs": [],
   "source": [
    "# Define a function to calculate OUTRANKING MATRIX\n",
    "def outranking_matrix(perf_matrix, threshold_matrix, weight, indif_pref_coeff = 1/2, weak_pref_coeff = 1/2):\n",
    "    '''\n",
    "    Parameter:\n",
    "    perf_matrix: entity's performance matrix; DataFrame\n",
    "    threshold_matrix: first row is perference threshold value of each indicator,\n",
    "                      second row is indifference threshold value of each indicator\n",
    "                      DataFrame\n",
    "    weight: weight of each indicator, list\n",
    "    indif_pref_coeff: coefficient of indifference, float\n",
    "    weak_pref_coeff: coefficient of weak preference, float\n",
    "    \n",
    "    Return values include intermediate pair-wise comparison matrix: inter_value\n",
    "    pair-matrix and outranking matrix.\n",
    "    '''\n",
    "    # pair-wise comparison\n",
    "    import itertools\n",
    "    import numpy as np\n",
    "    import pandas as pd\n",
    "    \n",
    "    \n",
    "    m, n = perf_matrix.shape\n",
    "    \n",
    "    # pair-wise matrix of rows for comparison\n",
    "    pair_matrix = pd.DataFrame(list(itertools.combinations(list(range(m)), 2)))\n",
    "    \n",
    "    i, j = pair_matrix.shape\n",
    "    \n",
    "    # Define a empty DataFrame for store the intermediate pair-wise comparison value\n",
    "    inter_value = pd.DataFrame(index = pair_matrix.index, columns = perf_matrix.columns)\n",
    "    \n",
    "    # assume that comparison two entities a and b, if a's perform better than b on indicator j, the corresponding\n",
    "    # element in intermediate pair_wise comparision matrix equals to 2. Similarly, if indiffence, equals to 1,\n",
    "    # if weak perference, equals to 3. If b perform better than a on indicator j, the corresponding\n",
    "    # element in intermediate pair_wise comparision matrix equals to 0.\n",
    "    for i in range(i):\n",
    "        for cn in range(n):\n",
    "            if np.absolute(perf_matrix.iloc[pair_matrix.iloc[i, 0], cn] - perf_matrix.iloc[pair_matrix.iloc[i, 1], cn]) <= threshold_matrix.iloc[1, cn]:\n",
    "                inter_value.iloc[i, cn] = 1\n",
    "            elif perf_matrix.iloc[pair_matrix.iloc[i, 0], cn] > perf_matrix.iat[pair_matrix.iloc[i, 1], cn] and np.absolute(perf_matrix.iloc[pair_matrix.iloc[i, 0], cn] - perf_matrix.iloc[pair_matrix.iloc[i, 1], cn]) > threshold_matrix.iloc[0, cn]:\n",
    "                inter_value.iloc[i, cn] = 2\n",
    "            elif threshold_matrix.iloc[1, cn] < np.absolute(perf_matrix.iloc[pair_matrix.iloc[i, 0], cn] - perf_matrix.iloc[pair_matrix.iloc[i, 1], cn]) <= threshold_matrix.iloc[0, cn]:\n",
    "                inter_value.iloc[i, cn] = 3\n",
    "            else:\n",
    "                inter_value.iloc[i, cn] = 0\n",
    "                \n",
    "        \n",
    "    for i in range(i+1):\n",
    "        for cn in range(n):\n",
    "            if inter_value.iloc[i, cn] == 1:\n",
    "                inter_value.iloc[i, cn] = indif_pref_coeff * weight.iloc[0, cn]\n",
    "            elif inter_value.iloc[i, cn] == 2:\n",
    "                inter_value.iloc[i, cn] = weight.iloc[0, cn]\n",
    "            elif inter_value.iloc[i, cn] == 3:\n",
    "                inter_value.iloc[i, cn] = weak_pref_coeff * weight.iloc[0, cn]\n",
    "            else:\n",
    "                inter_value.iloc[i, cn] = 0\n",
    "                \n",
    "    pair_matrix['outranking_matrix_element_value'] = inter_value.sum(axis = 1)\n",
    "    \n",
    "    # generate outranking matrix\n",
    "    outranking_matrix = pd.DataFrame(0, index = perf_matrix.index, columns = perf_matrix.index)\n",
    "    \n",
    "    for row in range(len(pair_matrix)):\n",
    "        outranking_matrix.iloc[pair_matrix.iloc[row, 0], pair_matrix.iloc[row, 1]] = pair_matrix.iloc[row, 2]\n",
    "        outranking_matrix.iloc[pair_matrix.iloc[row, 1], pair_matrix.iloc[row, 0]] = 1 - pair_matrix.iloc[row, 2]\n",
    "                \n",
    "    return outranking_matrix #, inter_value, pair_matrix "
   ]
  },
  {
   "cell_type": "code",
   "execution_count": 640,
   "metadata": {
    "collapsed": true
   },
   "outputs": [],
   "source": [
    "import os\n",
    "import pandas as pd"
   ]
  },
  {
   "cell_type": "code",
   "execution_count": 641,
   "metadata": {
    "collapsed": true
   },
   "outputs": [],
   "source": [
    "# read data\n",
    "normalized_data_path = os.path.join(os.path.abspath('..'), 'data', 'normalized_data.csv')\n",
    "nest_weight_data_path = os.path.join(os.path.abspath('..'), 'data', 'nest_weight.csv')\n",
    "\n",
    "normalized_data = pd.read_csv(normalized_data_path, index_col = 0)\n",
    "nest_weight = pd.read_csv(nest_weight_data_path, index_col = 0)"
   ]
  },
  {
   "cell_type": "markdown",
   "metadata": {},
   "source": [
    "## phi = 2/3\n",
    "\n",
    "## preference threshold  =  25% quartile\n",
    "\n",
    "## indifference threshold = [0, low whisker] and [low whisker, 25% quartile]"
   ]
  },
  {
   "cell_type": "code",
   "execution_count": 642,
   "metadata": {
    "collapsed": true
   },
   "outputs": [],
   "source": [
    "threshold_data_path = os.path.join(os.path.abspath('..'), 'data', 'indifference_threshold_03.csv') \n",
    "\n",
    "# if os.path.exists(indifference_threshold02_data_path):\n",
    "#     print('Input file:', indifference_threshold02_data_path)\n",
    "# else:\n",
    "#     print('Please fix the path!')"
   ]
  },
  {
   "cell_type": "code",
   "execution_count": 643,
   "metadata": {},
   "outputs": [
    {
     "data": {
      "text/html": [
       "<div>\n",
       "<style>\n",
       "    .dataframe thead tr:only-child th {\n",
       "        text-align: right;\n",
       "    }\n",
       "\n",
       "    .dataframe thead th {\n",
       "        text-align: left;\n",
       "    }\n",
       "\n",
       "    .dataframe tbody tr th {\n",
       "        vertical-align: top;\n",
       "    }\n",
       "</style>\n",
       "<table border=\"1\" class=\"dataframe\">\n",
       "  <thead>\n",
       "    <tr style=\"text-align: right;\">\n",
       "      <th></th>\n",
       "      <th>EnerCon</th>\n",
       "      <th>RD</th>\n",
       "      <th>Loan</th>\n",
       "      <th>TerInd</th>\n",
       "      <th>PubSpa</th>\n",
       "      <th>WatCon</th>\n",
       "      <th>Engle</th>\n",
       "      <th>Unemp</th>\n",
       "      <th>PopDen</th>\n",
       "      <th>GradeII</th>\n",
       "      <th>SolWas</th>\n",
       "      <th>WasWater</th>\n",
       "      <th>ConWas</th>\n",
       "      <th>PubBus</th>\n",
       "      <th>PasInt</th>\n",
       "    </tr>\n",
       "  </thead>\n",
       "  <tbody>\n",
       "    <tr>\n",
       "      <th>Preference threshold</th>\n",
       "      <td>0.779009</td>\n",
       "      <td>0.383130</td>\n",
       "      <td>0.416950</td>\n",
       "      <td>0.321251</td>\n",
       "      <td>0.115751</td>\n",
       "      <td>0.804843</td>\n",
       "      <td>0.378181</td>\n",
       "      <td>0.214286</td>\n",
       "      <td>0.702564</td>\n",
       "      <td>0.407749</td>\n",
       "      <td>0.778631</td>\n",
       "      <td>0.596460</td>\n",
       "      <td>0.536584</td>\n",
       "      <td>0.079932</td>\n",
       "      <td>0.043927</td>\n",
       "    </tr>\n",
       "    <tr>\n",
       "      <th>Indifference threshold</th>\n",
       "      <td>0.195568</td>\n",
       "      <td>0.064395</td>\n",
       "      <td>0.052601</td>\n",
       "      <td>0.000000</td>\n",
       "      <td>0.015340</td>\n",
       "      <td>0.195684</td>\n",
       "      <td>0.000000</td>\n",
       "      <td>0.000000</td>\n",
       "      <td>0.138791</td>\n",
       "      <td>0.000000</td>\n",
       "      <td>0.189609</td>\n",
       "      <td>0.085145</td>\n",
       "      <td>0.144499</td>\n",
       "      <td>0.000000</td>\n",
       "      <td>0.000000</td>\n",
       "    </tr>\n",
       "  </tbody>\n",
       "</table>\n",
       "</div>"
      ],
      "text/plain": [
       "                         EnerCon        RD      Loan    TerInd    PubSpa  \\\n",
       "Preference threshold    0.779009  0.383130  0.416950  0.321251  0.115751   \n",
       "Indifference threshold  0.195568  0.064395  0.052601  0.000000  0.015340   \n",
       "\n",
       "                          WatCon     Engle     Unemp    PopDen   GradeII  \\\n",
       "Preference threshold    0.804843  0.378181  0.214286  0.702564  0.407749   \n",
       "Indifference threshold  0.195684  0.000000  0.000000  0.138791  0.000000   \n",
       "\n",
       "                          SolWas  WasWater    ConWas    PubBus    PasInt  \n",
       "Preference threshold    0.778631  0.596460  0.536584  0.079932  0.043927  \n",
       "Indifference threshold  0.189609  0.085145  0.144499  0.000000  0.000000  "
      ]
     },
     "execution_count": 643,
     "metadata": {},
     "output_type": "execute_result"
    }
   ],
   "source": [
    "threshold = pd.read_csv(threshold_data_path, index_col = 0)\n",
    "threshold"
   ]
  },
  {
   "cell_type": "code",
   "execution_count": 644,
   "metadata": {},
   "outputs": [],
   "source": [
    "outranking_matrix_threshold = outranking_matrix(normalized_data, threshold, nest_weight, 1/2, 2/3)"
   ]
  },
  {
   "cell_type": "code",
   "execution_count": 645,
   "metadata": {},
   "outputs": [],
   "source": [
    "outranking_matrix_threshold['RowSum'] = outranking_matrix_threshold.sum(axis = 1)\n",
    "outranking_matrix_threshold['Rank'] = outranking_matrix_threshold['RowSum'].rank(ascending = False)\n",
    "#outranking_matrix_threshold.head()"
   ]
  },
  {
   "cell_type": "code",
   "execution_count": 646,
   "metadata": {},
   "outputs": [],
   "source": [
    "outranking_matrix_threshold.to_csv('../results/outranking_matrix/indifference_threhold_00_10_phi0.6/outranking_matrix_ind_thres_03.csv')\n"
   ]
  },
  {
   "cell_type": "code",
   "execution_count": null,
   "metadata": {
    "collapsed": true
   },
   "outputs": [],
   "source": []
  }
 ],
 "metadata": {
  "kernelspec": {
   "display_name": "Python 3",
   "language": "python",
   "name": "python3"
  },
  "language_info": {
   "codemirror_mode": {
    "name": "ipython",
    "version": 3
   },
   "file_extension": ".py",
   "mimetype": "text/x-python",
   "name": "python",
   "nbconvert_exporter": "python",
   "pygments_lexer": "ipython3",
   "version": "3.6.2"
  }
 },
 "nbformat": 4,
 "nbformat_minor": 2
}
