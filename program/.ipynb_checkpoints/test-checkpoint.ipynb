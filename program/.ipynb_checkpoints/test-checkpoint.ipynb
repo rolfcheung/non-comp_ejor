{
 "cells": [
  {
   "cell_type": "code",
   "execution_count": 3,
   "metadata": {},
   "outputs": [
    {
     "name": "stdout",
     "output_type": "stream",
     "text": [
      "Once deleted, variables cannot be recovered. Proceed (y/[n])? y\n"
     ]
    }
   ],
   "source": [
    "%reset"
   ]
  },
  {
   "cell_type": "code",
   "execution_count": 4,
   "metadata": {
    "collapsed": true
   },
   "outputs": [],
   "source": [
    "# Set notebook display\n",
    "%matplotlib inline\n",
    "from IPython.display import set_matplotlib_formats\n",
    "set_matplotlib_formats('retina')\n",
    "\n",
    "# import data analysis libraries\n",
    "import os\n",
    "import numpy as np\n",
    "import pandas as pd"
   ]
  },
  {
   "cell_type": "code",
   "execution_count": 5,
   "metadata": {},
   "outputs": [
    {
     "name": "stdout",
     "output_type": "stream",
     "text": [
      "Input file: /Users/rolf/Downloads/noncomp/rank/data/normalized_data.csv\n"
     ]
    }
   ],
   "source": [
    "# Set data path\n",
    "data_path = os.path.join(os.path.abspath('..'), 'data', 'normalized_data.csv')\n",
    "\n",
    "if os.path.exists(data_path):\n",
    "    print('Input file:', data_path)\n",
    "else:\n",
    "    print('Please fix the path!')"
   ]
  },
  {
   "cell_type": "code",
   "execution_count": 6,
   "metadata": {
    "collapsed": true
   },
   "outputs": [],
   "source": [
    "# import raw data; set first column as index name\n",
    "normalized_data = pd.read_csv(data_path, index_col = 0)"
   ]
  },
  {
   "cell_type": "code",
   "execution_count": 7,
   "metadata": {},
   "outputs": [
    {
     "data": {
      "text/html": [
       "<div>\n",
       "<style>\n",
       "    .dataframe thead tr:only-child th {\n",
       "        text-align: right;\n",
       "    }\n",
       "\n",
       "    .dataframe thead th {\n",
       "        text-align: left;\n",
       "    }\n",
       "\n",
       "    .dataframe tbody tr th {\n",
       "        vertical-align: top;\n",
       "    }\n",
       "</style>\n",
       "<table border=\"1\" class=\"dataframe\">\n",
       "  <thead>\n",
       "    <tr style=\"text-align: right;\">\n",
       "      <th></th>\n",
       "      <th>EnerCon</th>\n",
       "      <th>RD</th>\n",
       "      <th>Loan</th>\n",
       "      <th>TerInd</th>\n",
       "      <th>PubSpa</th>\n",
       "      <th>WatCon</th>\n",
       "      <th>Engle</th>\n",
       "      <th>Unemp</th>\n",
       "      <th>PopDen</th>\n",
       "      <th>GradeII</th>\n",
       "      <th>SolWas</th>\n",
       "      <th>WasWater</th>\n",
       "      <th>ConWas</th>\n",
       "      <th>PubBus</th>\n",
       "      <th>PasInt</th>\n",
       "    </tr>\n",
       "    <tr>\n",
       "      <th>City</th>\n",
       "      <th></th>\n",
       "      <th></th>\n",
       "      <th></th>\n",
       "      <th></th>\n",
       "      <th></th>\n",
       "      <th></th>\n",
       "      <th></th>\n",
       "      <th></th>\n",
       "      <th></th>\n",
       "      <th></th>\n",
       "      <th></th>\n",
       "      <th></th>\n",
       "      <th></th>\n",
       "      <th></th>\n",
       "      <th></th>\n",
       "    </tr>\n",
       "  </thead>\n",
       "  <tbody>\n",
       "    <tr>\n",
       "      <th>Beijing</th>\n",
       "      <td>0.893634</td>\n",
       "      <td>1.000000</td>\n",
       "      <td>0.554920</td>\n",
       "      <td>1.000000</td>\n",
       "      <td>0.466294</td>\n",
       "      <td>0.849516</td>\n",
       "      <td>0.517706</td>\n",
       "      <td>1.000000</td>\n",
       "      <td>0.847562</td>\n",
       "      <td>0.328413</td>\n",
       "      <td>0.804689</td>\n",
       "      <td>0.598266</td>\n",
       "      <td>0.579581</td>\n",
       "      <td>0.159141</td>\n",
       "      <td>0.106449</td>\n",
       "    </tr>\n",
       "    <tr>\n",
       "      <th>Tianjin</th>\n",
       "      <td>0.817083</td>\n",
       "      <td>0.498335</td>\n",
       "      <td>0.392968</td>\n",
       "      <td>0.300174</td>\n",
       "      <td>0.160638</td>\n",
       "      <td>0.897654</td>\n",
       "      <td>0.417939</td>\n",
       "      <td>0.214286</td>\n",
       "      <td>0.829570</td>\n",
       "      <td>0.354244</td>\n",
       "      <td>0.982734</td>\n",
       "      <td>1.000000</td>\n",
       "      <td>0.555371</td>\n",
       "      <td>0.099644</td>\n",
       "      <td>0.041950</td>\n",
       "    </tr>\n",
       "    <tr>\n",
       "      <th>Shijiazhuang</th>\n",
       "      <td>0.599517</td>\n",
       "      <td>0.561820</td>\n",
       "      <td>0.356321</td>\n",
       "      <td>0.448893</td>\n",
       "      <td>0.278362</td>\n",
       "      <td>0.963315</td>\n",
       "      <td>0.781277</td>\n",
       "      <td>0.175000</td>\n",
       "      <td>0.691098</td>\n",
       "      <td>0.066421</td>\n",
       "      <td>0.922382</td>\n",
       "      <td>0.880058</td>\n",
       "      <td>0.380647</td>\n",
       "      <td>0.080405</td>\n",
       "      <td>0.049464</td>\n",
       "    </tr>\n",
       "    <tr>\n",
       "      <th>Qinhuangdao</th>\n",
       "      <td>0.659952</td>\n",
       "      <td>0.558269</td>\n",
       "      <td>0.458958</td>\n",
       "      <td>0.672470</td>\n",
       "      <td>1.000000</td>\n",
       "      <td>0.811938</td>\n",
       "      <td>0.879188</td>\n",
       "      <td>0.260714</td>\n",
       "      <td>0.705688</td>\n",
       "      <td>0.590406</td>\n",
       "      <td>0.445588</td>\n",
       "      <td>0.953179</td>\n",
       "      <td>1.000000</td>\n",
       "      <td>0.051713</td>\n",
       "      <td>0.026325</td>\n",
       "    </tr>\n",
       "    <tr>\n",
       "      <th>Baoding</th>\n",
       "      <td>0.651894</td>\n",
       "      <td>0.567148</td>\n",
       "      <td>0.413456</td>\n",
       "      <td>0.000000</td>\n",
       "      <td>0.138770</td>\n",
       "      <td>0.950802</td>\n",
       "      <td>1.000000</td>\n",
       "      <td>0.028571</td>\n",
       "      <td>0.379772</td>\n",
       "      <td>0.000000</td>\n",
       "      <td>0.781403</td>\n",
       "      <td>0.751156</td>\n",
       "      <td>0.455508</td>\n",
       "      <td>0.186165</td>\n",
       "      <td>0.035300</td>\n",
       "    </tr>\n",
       "  </tbody>\n",
       "</table>\n",
       "</div>"
      ],
      "text/plain": [
       "               EnerCon        RD      Loan    TerInd    PubSpa    WatCon  \\\n",
       "City                                                                       \n",
       "Beijing       0.893634  1.000000  0.554920  1.000000  0.466294  0.849516   \n",
       "Tianjin       0.817083  0.498335  0.392968  0.300174  0.160638  0.897654   \n",
       "Shijiazhuang  0.599517  0.561820  0.356321  0.448893  0.278362  0.963315   \n",
       "Qinhuangdao   0.659952  0.558269  0.458958  0.672470  1.000000  0.811938   \n",
       "Baoding       0.651894  0.567148  0.413456  0.000000  0.138770  0.950802   \n",
       "\n",
       "                 Engle     Unemp    PopDen   GradeII    SolWas  WasWater  \\\n",
       "City                                                                       \n",
       "Beijing       0.517706  1.000000  0.847562  0.328413  0.804689  0.598266   \n",
       "Tianjin       0.417939  0.214286  0.829570  0.354244  0.982734  1.000000   \n",
       "Shijiazhuang  0.781277  0.175000  0.691098  0.066421  0.922382  0.880058   \n",
       "Qinhuangdao   0.879188  0.260714  0.705688  0.590406  0.445588  0.953179   \n",
       "Baoding       1.000000  0.028571  0.379772  0.000000  0.781403  0.751156   \n",
       "\n",
       "                ConWas    PubBus    PasInt  \n",
       "City                                        \n",
       "Beijing       0.579581  0.159141  0.106449  \n",
       "Tianjin       0.555371  0.099644  0.041950  \n",
       "Shijiazhuang  0.380647  0.080405  0.049464  \n",
       "Qinhuangdao   1.000000  0.051713  0.026325  \n",
       "Baoding       0.455508  0.186165  0.035300  "
      ]
     },
     "execution_count": 7,
     "metadata": {},
     "output_type": "execute_result"
    }
   ],
   "source": [
    "normalized_data.head()"
   ]
  },
  {
   "cell_type": "code",
   "execution_count": 8,
   "metadata": {},
   "outputs": [
    {
     "name": "stdout",
     "output_type": "stream",
     "text": [
      "Input file : /Users/rolf/Downloads/noncomp/rank/data/thresholds.csv\n"
     ]
    }
   ],
   "source": [
    "thresholds_data_path = os.path.join(os.path.abspath('..'), 'data', 'thresholds.csv')\n",
    "\n",
    "if os.path.exists(thresholds_data_path):\n",
    "    print('Input file :', thresholds_data_path)\n",
    "else:\n",
    "    print('Please fix the path')"
   ]
  },
  {
   "cell_type": "code",
   "execution_count": 9,
   "metadata": {},
   "outputs": [
    {
     "data": {
      "text/html": [
       "<div>\n",
       "<style>\n",
       "    .dataframe thead tr:only-child th {\n",
       "        text-align: right;\n",
       "    }\n",
       "\n",
       "    .dataframe thead th {\n",
       "        text-align: left;\n",
       "    }\n",
       "\n",
       "    .dataframe tbody tr th {\n",
       "        vertical-align: top;\n",
       "    }\n",
       "</style>\n",
       "<table border=\"1\" class=\"dataframe\">\n",
       "  <thead>\n",
       "    <tr style=\"text-align: right;\">\n",
       "      <th></th>\n",
       "      <th>EnerCon</th>\n",
       "      <th>RD</th>\n",
       "      <th>Loan</th>\n",
       "      <th>TerInd</th>\n",
       "      <th>PubSpa</th>\n",
       "      <th>WatCon</th>\n",
       "      <th>Engle</th>\n",
       "      <th>Unemp</th>\n",
       "      <th>PopDen</th>\n",
       "      <th>GradeII</th>\n",
       "      <th>SolWas</th>\n",
       "      <th>WasWater</th>\n",
       "      <th>ConWas</th>\n",
       "      <th>PubBus</th>\n",
       "      <th>PasInt</th>\n",
       "    </tr>\n",
       "  </thead>\n",
       "  <tbody>\n",
       "    <tr>\n",
       "      <th>Preference threshold</th>\n",
       "      <td>0.779009</td>\n",
       "      <td>0.38313</td>\n",
       "      <td>0.416950</td>\n",
       "      <td>0.321251</td>\n",
       "      <td>0.115751</td>\n",
       "      <td>0.804843</td>\n",
       "      <td>0.378181</td>\n",
       "      <td>0.214286</td>\n",
       "      <td>0.702564</td>\n",
       "      <td>0.407749</td>\n",
       "      <td>0.778631</td>\n",
       "      <td>0.596460</td>\n",
       "      <td>0.536584</td>\n",
       "      <td>0.079932</td>\n",
       "      <td>0.043927</td>\n",
       "    </tr>\n",
       "    <tr>\n",
       "      <th>Indifference threshold</th>\n",
       "      <td>0.651894</td>\n",
       "      <td>0.21465</td>\n",
       "      <td>0.175335</td>\n",
       "      <td>0.000000</td>\n",
       "      <td>0.051134</td>\n",
       "      <td>0.652279</td>\n",
       "      <td>0.000000</td>\n",
       "      <td>0.000000</td>\n",
       "      <td>0.462638</td>\n",
       "      <td>0.000000</td>\n",
       "      <td>0.632029</td>\n",
       "      <td>0.283815</td>\n",
       "      <td>0.481663</td>\n",
       "      <td>0.000000</td>\n",
       "      <td>0.000000</td>\n",
       "    </tr>\n",
       "  </tbody>\n",
       "</table>\n",
       "</div>"
      ],
      "text/plain": [
       "                         EnerCon       RD      Loan    TerInd    PubSpa  \\\n",
       "Preference threshold    0.779009  0.38313  0.416950  0.321251  0.115751   \n",
       "Indifference threshold  0.651894  0.21465  0.175335  0.000000  0.051134   \n",
       "\n",
       "                          WatCon     Engle     Unemp    PopDen   GradeII  \\\n",
       "Preference threshold    0.804843  0.378181  0.214286  0.702564  0.407749   \n",
       "Indifference threshold  0.652279  0.000000  0.000000  0.462638  0.000000   \n",
       "\n",
       "                          SolWas  WasWater    ConWas    PubBus    PasInt  \n",
       "Preference threshold    0.778631  0.596460  0.536584  0.079932  0.043927  \n",
       "Indifference threshold  0.632029  0.283815  0.481663  0.000000  0.000000  "
      ]
     },
     "execution_count": 9,
     "metadata": {},
     "output_type": "execute_result"
    }
   ],
   "source": [
    "thresholds = pd.read_csv(thresholds_data_path, index_col = 0)\n",
    "thresholds"
   ]
  },
  {
   "cell_type": "code",
   "execution_count": 10,
   "metadata": {
    "collapsed": true
   },
   "outputs": [],
   "source": [
    "def outranking_matrix(perf_matrix, threshold_matrix, weight, indif_pref_coeff, weak_pref_coeff):\n",
    "    '''\n",
    "    Parameter:\n",
    "    perf_matrix: entity's performance matrix; DataFrame\n",
    "    threshold_matrix: first row is perference threshold value of each indicator,\n",
    "                      second row is indifference threshold value of each indicator\n",
    "                      DataFrame\n",
    "    weight: weight of each indicator, list\n",
    "    indif_pref_coeff: coefficient of indifference, float\n",
    "    weak_pref_coeff: coefficient of weak preference, float\n",
    "    \n",
    "    Return values include intermediate pair-wise comparison matrix: inter_value\n",
    "    pair-matrix and outranking matrix.\n",
    "    '''\n",
    "    # pair-wise comparison\n",
    "    import itertools\n",
    "    \n",
    "    m, n = perf_matrix.shape\n",
    "    \n",
    "    # pair-wise matrix of rows for comparison\n",
    "    pair_matrix = pd.DataFrame(list(itertools.combinations(list(range(m)), 2)))\n",
    "    \n",
    "    i, j = pair_matrix.shape\n",
    "    \n",
    "    # Define a empty DataFrame for store the intermediate pair-wise comparison value\n",
    "    inter_value = pd.DataFrame(index = pair_matrix.index, columns = perf_matrix.columns)\n",
    "    \n",
    "    # assume that comparison two entities a and b, if a's perform better than b on indicator j, the corresponding\n",
    "    # element in intermediate pair_wise comparision matrix equals to 2. Similarly, if indiffence, equals to 1,\n",
    "    # if weak perference, equals to 3. If b perform better than a on indicator j, the corresponding\n",
    "    # element in intermediate pair_wise comparision matrix equals to 0.\n",
    "    for i in range(i):\n",
    "        for cn in range(n):\n",
    "            if np.absolute(perf_matrix.iloc[pair_matrix.iat[i, 0], cn] - perf_matrix.iloc[pair_matrix.iat[i, 1], cn]) <= threshold_matrix.iloc[1, cn]:\n",
    "                inter_value.iloc[i, cn] = 1\n",
    "            elif perf_matrix.iloc[pair_matrix.iat[i, 0], cn] > perf_matrix.iat[pair_matrix.iloc[i, 1], cn] and np.absolute(perf_matrix.iat[pair_matrix.iloc[i, 0], cn] - perf_matrix.iat[pair_matrix.iloc[i, 1], cn]) > threshold_matrix.iloc[0, cn]:\n",
    "                inter_value.iloc[i, cn] = 2\n",
    "            elif threshold_matrix.iloc[1, cn] < np.absolute(perf_matrix.iat[pair_matrix.iloc[i, 0], cn] - perf_matrix.iat[pair_matrix.iloc[i, 1], cn]) <= threshold_matrix.iloc[0, cn]:\n",
    "                inter_value.iloc[i, cn] = 3\n",
    "            else:\n",
    "                inter_value.iloc[i, cn] = 0\n",
    "                \n",
    "        \n",
    "    for i in range(i+1):\n",
    "        for cn in range(n):\n",
    "            if inter_value.iloc[i, cn] == 1:\n",
    "                inter_value.iloc[i, cn] = indif_pref_coeff * weight.iloc[0, cn]\n",
    "            elif inter_value.iloc[i, cn] == 2:\n",
    "                inter_value.iloc[i, cn] = weight.iloc[0, cn]\n",
    "            elif inter_value.iloc[i, cn] == 3:\n",
    "                inter_value.iloc[i, cn] = indif_pref_coeff * weight.iloc[0, cn]\n",
    "            else:\n",
    "                inter_value.iloc[i, cn] = 0\n",
    "                \n",
    "    pair_matrix['outranking_matrix_element_value'] = inter_value.sum(axis = 1)\n",
    "    \n",
    "    # generate outranking matrix\n",
    "    outranking_matrix = pd.DataFrame(0, index = perf_matrix.index, columns = perf_matrix.index)\n",
    "    \n",
    "    for row in range(len(pair_matrix)):\n",
    "        outranking_matrix.iloc[pair_matrix.iloc[row, 0], pair_matrix.iloc[row, 1]] = pair_matrix.iloc[row, 2]\n",
    "        outranking_matrix.iloc[pair_matrix.iloc[row, 1], pair_matrix.iloc[row, 0]] = 1 - pair_matrix.iloc[row, 2]\n",
    "                \n",
    "    return outranking_matrix, inter_value, pair_matrix "
   ]
  },
  {
   "cell_type": "code",
   "execution_count": 15,
   "metadata": {},
   "outputs": [
    {
     "name": "stdout",
     "output_type": "stream",
     "text": [
      "Input file : /Users/rolf/Downloads/noncomp/rank/data/ind_weight.csv\n"
     ]
    }
   ],
   "source": [
    "ind_weight_data_path = os.path.join(os.path.abspath('..'), 'data', 'ind_weight.csv')\n",
    "\n",
    "if os.path.exists(thresholds_data_path):\n",
    "    print('Input file :', ind_weight_data_path)\n",
    "else:\n",
    "    print('Please fix the path')"
   ]
  },
  {
   "cell_type": "code",
   "execution_count": 17,
   "metadata": {},
   "outputs": [],
   "source": [
    "ind_weight = pd.read_csv(ind_weight_data_path)"
   ]
  },
  {
   "cell_type": "code",
   "execution_count": 18,
   "metadata": {},
   "outputs": [
    {
     "ename": "TypeError",
     "evalue": "can't multiply sequence by non-int of type 'float'",
     "output_type": "error",
     "traceback": [
      "\u001b[0;31m---------------------------------------------------------------------------\u001b[0m",
      "\u001b[0;31mTypeError\u001b[0m                                 Traceback (most recent call last)",
      "\u001b[0;32m<ipython-input-18-9060640b4eb4>\u001b[0m in \u001b[0;36m<module>\u001b[0;34m()\u001b[0m\n\u001b[0;32m----> 1\u001b[0;31m \u001b[0moutranking_matrix\u001b[0m\u001b[0;34m,\u001b[0m \u001b[0minter_value\u001b[0m\u001b[0;34m,\u001b[0m \u001b[0mpair_matrix\u001b[0m \u001b[0;34m=\u001b[0m \u001b[0moutranking_matrix\u001b[0m\u001b[0;34m(\u001b[0m\u001b[0mnormalized_data\u001b[0m\u001b[0;34m,\u001b[0m \u001b[0mthresholds\u001b[0m\u001b[0;34m,\u001b[0m \u001b[0mind_weight\u001b[0m\u001b[0;34m,\u001b[0m \u001b[0;36m1\u001b[0m\u001b[0;34m/\u001b[0m\u001b[0;36m2\u001b[0m\u001b[0;34m,\u001b[0m \u001b[0;36m1\u001b[0m\u001b[0;34m/\u001b[0m\u001b[0;36m2\u001b[0m\u001b[0;34m)\u001b[0m\u001b[0;34m\u001b[0m\u001b[0m\n\u001b[0m",
      "\u001b[0;32m<ipython-input-10-3eb75c8e931d>\u001b[0m in \u001b[0;36moutranking_matrix\u001b[0;34m(perf_matrix, threshold_matrix, weight, indif_pref_coeff, weak_pref_coeff)\u001b[0m\n\u001b[1;32m     45\u001b[0m         \u001b[0;32mfor\u001b[0m \u001b[0mcn\u001b[0m \u001b[0;32min\u001b[0m \u001b[0mrange\u001b[0m\u001b[0;34m(\u001b[0m\u001b[0mn\u001b[0m\u001b[0;34m)\u001b[0m\u001b[0;34m:\u001b[0m\u001b[0;34m\u001b[0m\u001b[0m\n\u001b[1;32m     46\u001b[0m             \u001b[0;32mif\u001b[0m \u001b[0minter_value\u001b[0m\u001b[0;34m.\u001b[0m\u001b[0miloc\u001b[0m\u001b[0;34m[\u001b[0m\u001b[0mi\u001b[0m\u001b[0;34m,\u001b[0m \u001b[0mcn\u001b[0m\u001b[0;34m]\u001b[0m \u001b[0;34m==\u001b[0m \u001b[0;36m1\u001b[0m\u001b[0;34m:\u001b[0m\u001b[0;34m\u001b[0m\u001b[0m\n\u001b[0;32m---> 47\u001b[0;31m                 \u001b[0minter_value\u001b[0m\u001b[0;34m.\u001b[0m\u001b[0miloc\u001b[0m\u001b[0;34m[\u001b[0m\u001b[0mi\u001b[0m\u001b[0;34m,\u001b[0m \u001b[0mcn\u001b[0m\u001b[0;34m]\u001b[0m \u001b[0;34m=\u001b[0m \u001b[0mindif_pref_coeff\u001b[0m \u001b[0;34m*\u001b[0m \u001b[0mweight\u001b[0m\u001b[0;34m.\u001b[0m\u001b[0miloc\u001b[0m\u001b[0;34m[\u001b[0m\u001b[0;36m0\u001b[0m\u001b[0;34m,\u001b[0m \u001b[0mcn\u001b[0m\u001b[0;34m]\u001b[0m\u001b[0;34m\u001b[0m\u001b[0m\n\u001b[0m\u001b[1;32m     48\u001b[0m             \u001b[0;32melif\u001b[0m \u001b[0minter_value\u001b[0m\u001b[0;34m.\u001b[0m\u001b[0miloc\u001b[0m\u001b[0;34m[\u001b[0m\u001b[0mi\u001b[0m\u001b[0;34m,\u001b[0m \u001b[0mcn\u001b[0m\u001b[0;34m]\u001b[0m \u001b[0;34m==\u001b[0m \u001b[0;36m2\u001b[0m\u001b[0;34m:\u001b[0m\u001b[0;34m\u001b[0m\u001b[0m\n\u001b[1;32m     49\u001b[0m                 \u001b[0minter_value\u001b[0m\u001b[0;34m.\u001b[0m\u001b[0miloc\u001b[0m\u001b[0;34m[\u001b[0m\u001b[0mi\u001b[0m\u001b[0;34m,\u001b[0m \u001b[0mcn\u001b[0m\u001b[0;34m]\u001b[0m \u001b[0;34m=\u001b[0m \u001b[0mweight\u001b[0m\u001b[0;34m.\u001b[0m\u001b[0miloc\u001b[0m\u001b[0;34m[\u001b[0m\u001b[0;36m0\u001b[0m\u001b[0;34m,\u001b[0m \u001b[0mcn\u001b[0m\u001b[0;34m]\u001b[0m\u001b[0;34m\u001b[0m\u001b[0m\n",
      "\u001b[0;31mTypeError\u001b[0m: can't multiply sequence by non-int of type 'float'"
     ]
    }
   ],
   "source": [
    "outranking_matrix, inter_value, pair_matrix = outranking_matrix(normalized_data, thresholds, ind_weight, 1/2, 1/2)"
   ]
  },
  {
   "cell_type": "code",
   "execution_count": null,
   "metadata": {
    "collapsed": true
   },
   "outputs": [],
   "source": [
    "outranking"
   ]
  }
 ],
 "metadata": {
  "kernelspec": {
   "display_name": "Python 3",
   "language": "python",
   "name": "python3"
  },
  "language_info": {
   "codemirror_mode": {
    "name": "ipython",
    "version": 3
   },
   "file_extension": ".py",
   "mimetype": "text/x-python",
   "name": "python",
   "nbconvert_exporter": "python",
   "pygments_lexer": "ipython3",
   "version": "3.6.1"
  }
 },
 "nbformat": 4,
 "nbformat_minor": 2
}
