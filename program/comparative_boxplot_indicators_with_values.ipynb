{
 "cells": [
  {
   "cell_type": "code",
   "execution_count": 1,
   "metadata": {},
   "outputs": [
    {
     "name": "stdout",
     "output_type": "stream",
     "text": [
      "Once deleted, variables cannot be recovered. Proceed (y/[n])? y\n"
     ]
    }
   ],
   "source": [
    "%reset"
   ]
  },
  {
   "cell_type": "code",
   "execution_count": 2,
   "metadata": {
    "collapsed": true
   },
   "outputs": [],
   "source": [
    "# Set notebook display\n",
    "%matplotlib inline\n",
    "from IPython.display import set_matplotlib_formats\n",
    "set_matplotlib_formats('retina')\n",
    "\n",
    "# import data analysis libraries\n",
    "import os\n",
    "import numpy as np\n",
    "import pandas as pd\n",
    "import matplotlib.pyplot as plt\n",
    "import seaborn as sns"
   ]
  },
  {
   "cell_type": "code",
   "execution_count": 3,
   "metadata": {},
   "outputs": [
    {
     "name": "stdout",
     "output_type": "stream",
     "text": [
      "Input file: /Users/rolf/Downloads/noncomp/rank/data/normalized_data.csv\n"
     ]
    },
    {
     "data": {
      "text/html": [
       "<div>\n",
       "<style>\n",
       "    .dataframe thead tr:only-child th {\n",
       "        text-align: right;\n",
       "    }\n",
       "\n",
       "    .dataframe thead th {\n",
       "        text-align: left;\n",
       "    }\n",
       "\n",
       "    .dataframe tbody tr th {\n",
       "        vertical-align: top;\n",
       "    }\n",
       "</style>\n",
       "<table border=\"1\" class=\"dataframe\">\n",
       "  <thead>\n",
       "    <tr style=\"text-align: right;\">\n",
       "      <th></th>\n",
       "      <th>EnerCon</th>\n",
       "      <th>RD</th>\n",
       "      <th>Loan</th>\n",
       "      <th>TerInd</th>\n",
       "      <th>PubSpa</th>\n",
       "      <th>WatCon</th>\n",
       "      <th>Engle</th>\n",
       "      <th>Unemp</th>\n",
       "      <th>PopDen</th>\n",
       "      <th>GradeII</th>\n",
       "      <th>SolWas</th>\n",
       "      <th>WasWater</th>\n",
       "      <th>ConWas</th>\n",
       "      <th>PubBus</th>\n",
       "      <th>PasInt</th>\n",
       "    </tr>\n",
       "    <tr>\n",
       "      <th>City</th>\n",
       "      <th></th>\n",
       "      <th></th>\n",
       "      <th></th>\n",
       "      <th></th>\n",
       "      <th></th>\n",
       "      <th></th>\n",
       "      <th></th>\n",
       "      <th></th>\n",
       "      <th></th>\n",
       "      <th></th>\n",
       "      <th></th>\n",
       "      <th></th>\n",
       "      <th></th>\n",
       "      <th></th>\n",
       "      <th></th>\n",
       "    </tr>\n",
       "  </thead>\n",
       "  <tbody>\n",
       "    <tr>\n",
       "      <th>Beijing</th>\n",
       "      <td>0.893634</td>\n",
       "      <td>1.000000</td>\n",
       "      <td>0.554920</td>\n",
       "      <td>1.000000</td>\n",
       "      <td>0.466294</td>\n",
       "      <td>0.849516</td>\n",
       "      <td>0.517706</td>\n",
       "      <td>1.000000</td>\n",
       "      <td>0.847562</td>\n",
       "      <td>0.328413</td>\n",
       "      <td>0.804689</td>\n",
       "      <td>0.598266</td>\n",
       "      <td>0.579581</td>\n",
       "      <td>0.159141</td>\n",
       "      <td>0.106449</td>\n",
       "    </tr>\n",
       "    <tr>\n",
       "      <th>Tianjin</th>\n",
       "      <td>0.817083</td>\n",
       "      <td>0.498335</td>\n",
       "      <td>0.392968</td>\n",
       "      <td>0.300174</td>\n",
       "      <td>0.160638</td>\n",
       "      <td>0.897654</td>\n",
       "      <td>0.417939</td>\n",
       "      <td>0.214286</td>\n",
       "      <td>0.829570</td>\n",
       "      <td>0.354244</td>\n",
       "      <td>0.982734</td>\n",
       "      <td>1.000000</td>\n",
       "      <td>0.555371</td>\n",
       "      <td>0.099644</td>\n",
       "      <td>0.041950</td>\n",
       "    </tr>\n",
       "    <tr>\n",
       "      <th>Shijiazhuang</th>\n",
       "      <td>0.599517</td>\n",
       "      <td>0.561820</td>\n",
       "      <td>0.356321</td>\n",
       "      <td>0.448893</td>\n",
       "      <td>0.278362</td>\n",
       "      <td>0.963315</td>\n",
       "      <td>0.781277</td>\n",
       "      <td>0.175000</td>\n",
       "      <td>0.691098</td>\n",
       "      <td>0.066421</td>\n",
       "      <td>0.922382</td>\n",
       "      <td>0.880058</td>\n",
       "      <td>0.380647</td>\n",
       "      <td>0.080405</td>\n",
       "      <td>0.049464</td>\n",
       "    </tr>\n",
       "    <tr>\n",
       "      <th>Qinhuangdao</th>\n",
       "      <td>0.659952</td>\n",
       "      <td>0.558269</td>\n",
       "      <td>0.458958</td>\n",
       "      <td>0.672470</td>\n",
       "      <td>1.000000</td>\n",
       "      <td>0.811938</td>\n",
       "      <td>0.879188</td>\n",
       "      <td>0.260714</td>\n",
       "      <td>0.705688</td>\n",
       "      <td>0.590406</td>\n",
       "      <td>0.445588</td>\n",
       "      <td>0.953179</td>\n",
       "      <td>1.000000</td>\n",
       "      <td>0.051713</td>\n",
       "      <td>0.026325</td>\n",
       "    </tr>\n",
       "    <tr>\n",
       "      <th>Baoding</th>\n",
       "      <td>0.651894</td>\n",
       "      <td>0.567148</td>\n",
       "      <td>0.413456</td>\n",
       "      <td>0.000000</td>\n",
       "      <td>0.138770</td>\n",
       "      <td>0.950802</td>\n",
       "      <td>1.000000</td>\n",
       "      <td>0.028571</td>\n",
       "      <td>0.379772</td>\n",
       "      <td>0.000000</td>\n",
       "      <td>0.781403</td>\n",
       "      <td>0.751156</td>\n",
       "      <td>0.455508</td>\n",
       "      <td>0.186165</td>\n",
       "      <td>0.035300</td>\n",
       "    </tr>\n",
       "  </tbody>\n",
       "</table>\n",
       "</div>"
      ],
      "text/plain": [
       "               EnerCon        RD      Loan    TerInd    PubSpa    WatCon  \\\n",
       "City                                                                       \n",
       "Beijing       0.893634  1.000000  0.554920  1.000000  0.466294  0.849516   \n",
       "Tianjin       0.817083  0.498335  0.392968  0.300174  0.160638  0.897654   \n",
       "Shijiazhuang  0.599517  0.561820  0.356321  0.448893  0.278362  0.963315   \n",
       "Qinhuangdao   0.659952  0.558269  0.458958  0.672470  1.000000  0.811938   \n",
       "Baoding       0.651894  0.567148  0.413456  0.000000  0.138770  0.950802   \n",
       "\n",
       "                 Engle     Unemp    PopDen   GradeII    SolWas  WasWater  \\\n",
       "City                                                                       \n",
       "Beijing       0.517706  1.000000  0.847562  0.328413  0.804689  0.598266   \n",
       "Tianjin       0.417939  0.214286  0.829570  0.354244  0.982734  1.000000   \n",
       "Shijiazhuang  0.781277  0.175000  0.691098  0.066421  0.922382  0.880058   \n",
       "Qinhuangdao   0.879188  0.260714  0.705688  0.590406  0.445588  0.953179   \n",
       "Baoding       1.000000  0.028571  0.379772  0.000000  0.781403  0.751156   \n",
       "\n",
       "                ConWas    PubBus    PasInt  \n",
       "City                                        \n",
       "Beijing       0.579581  0.159141  0.106449  \n",
       "Tianjin       0.555371  0.099644  0.041950  \n",
       "Shijiazhuang  0.380647  0.080405  0.049464  \n",
       "Qinhuangdao   1.000000  0.051713  0.026325  \n",
       "Baoding       0.455508  0.186165  0.035300  "
      ]
     },
     "execution_count": 3,
     "metadata": {},
     "output_type": "execute_result"
    }
   ],
   "source": [
    "# Set data path\n",
    "normalized_data_path = os.path.join(os.path.abspath('..'), 'data', 'normalized_data.csv')\n",
    "\n",
    "if os.path.exists(normalized_data_path):\n",
    "    print('Input file:', normalized_data_path)\n",
    "else:\n",
    "    print('Please fix the path!')\n",
    "\n",
    "# import raw data; set first column as index name\n",
    "normalized_data = pd.read_csv(normalized_data_path, index_col = 0)\n",
    "normalized_data.head()"
   ]
  },
  {
   "cell_type": "code",
   "execution_count": 5,
   "metadata": {},
   "outputs": [
    {
     "data": {
      "image/png": "[encoded data removed]",
      "text/plain": [
       "<matplotlib.figure.Figure at 0x111a9b080>"
      ]
     },
     "metadata": {
      "image/png": {
       "height": 340,
       "width": 486
      }
     },
     "output_type": "display_data"
    }
   ],
   "source": [
    "# plot comparative boxplot of indicator for forty cities\n",
    "fig, ax = plt.subplots()\n",
    "\n",
    "font = {'family' : 'serif',  \n",
    "        'color'  : 'k',  \n",
    "        'weight' : 'normal',  \n",
    "        'size'   : 6,  \n",
    "        } \n",
    "meanprops = dict(marker = '^', markerfacecolor='none', \n",
    "                 markersize=4, linestyle='none', linewidth = 0.5)\n",
    "\n",
    "\n",
    "sns.set_style('ticks')\n",
    "_, boxplot = normalized_data.boxplot(ax = ax, grid = False, figsize = (8, 8),\n",
    "                        showmeans = False, meanprops = meanprops, return_type = 'both')\n",
    "\n",
    "####\n",
    "for line in boxplot['boxes']:\n",
    "    x, y = line.get_xydata()[0]\n",
    "    plt.text(x+0.03, y, '%.2f' % y, fontdict = font, va = 'bottom')\n",
    "    \n",
    "\n",
    "y = [line.get_xydata()[1] for line in boxplot['whiskers']]\n",
    "    \n",
    "new_list = []\n",
    "for n in range(len(y)):\n",
    "    if n % 2 ==0:\n",
    "        new_list = new_list + [y[n]]\n",
    "    \n",
    "    \n",
    "for x, y in new_list:\n",
    "    plt.text(x, y-0.01, '%.2f' % y, fontdict = font, ha = 'center', va = 'top')\n",
    "######\n",
    "\n",
    "ax.set_xticklabels(list(normalized_data.columns),rotation = 30, fontdict=font, ha = 'right', va = 'center')\n",
    "\n",
    "ax.set_yticks(np.linspace(0,1,6))  \n",
    "ax.set_yticklabels(['0.0', '0.2', '0.4', '0.6', '0.8', '1.0'], fontdict = font)\n",
    "\n",
    "plt.show()"
   ]
  },
  {
   "cell_type": "code",
   "execution_count": 130,
   "metadata": {
    "collapsed": true
   },
   "outputs": [],
   "source": [
    "fig.savefig('../results/comparative_boxplot_indicators_with_values.pdf')"
   ]
  },
  {
   "cell_type": "code",
   "execution_count": null,
   "metadata": {
    "collapsed": true
   },
   "outputs": [],
   "source": []
  }
 ],
 "metadata": {
  "kernelspec": {
   "display_name": "Python 3",
   "language": "python",
   "name": "python3"
  },
  "language_info": {
   "codemirror_mode": {
    "name": "ipython",
    "version": 3
   },
   "file_extension": ".py",
   "mimetype": "text/x-python",
   "name": "python",
   "nbconvert_exporter": "python",
   "pygments_lexer": "ipython3",
   "version": "3.6.1"
  }
 },
 "nbformat": 4,
 "nbformat_minor": 2
}
