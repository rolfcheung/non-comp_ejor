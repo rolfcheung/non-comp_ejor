{
 "cells": [
  {
   "cell_type": "code",
   "execution_count": 1,
   "metadata": {},
   "outputs": [
    {
     "name": "stdout",
     "output_type": "stream",
     "text": [
      "Once deleted, variables cannot be recovered. Proceed (y/[n])? y\n"
     ]
    }
   ],
   "source": [
    "%reset"
   ]
  },
  {
   "cell_type": "code",
   "execution_count": 2,
   "metadata": {
    "collapsed": true
   },
   "outputs": [],
   "source": [
    "# Set notebook display\n",
    "%matplotlib inline\n",
    "from IPython.display import set_matplotlib_formats\n",
    "set_matplotlib_formats('retina')\n",
    "\n",
    "# import data analysis libraries\n",
    "import os\n",
    "import numpy as np\n",
    "import pandas as pd\n",
    "import matplotlib.pyplot as plt\n",
    "import seaborn as sns"
   ]
  },
  {
   "cell_type": "code",
   "execution_count": 3,
   "metadata": {},
   "outputs": [
    {
     "name": "stdout",
     "output_type": "stream",
     "text": [
      "File path: /Users/rolf/Downloads/noncomp/rank/data/normalized_data.csv\n"
     ]
    },
    {
     "data": {
      "text/html": [
       "<div>\n",
       "<style>\n",
       "    .dataframe thead tr:only-child th {\n",
       "        text-align: right;\n",
       "    }\n",
       "\n",
       "    .dataframe thead th {\n",
       "        text-align: left;\n",
       "    }\n",
       "\n",
       "    .dataframe tbody tr th {\n",
       "        vertical-align: top;\n",
       "    }\n",
       "</style>\n",
       "<table border=\"1\" class=\"dataframe\">\n",
       "  <thead>\n",
       "    <tr style=\"text-align: right;\">\n",
       "      <th></th>\n",
       "      <th>EnerCon</th>\n",
       "      <th>RD</th>\n",
       "      <th>Loan</th>\n",
       "      <th>TerInd</th>\n",
       "      <th>PubSpa</th>\n",
       "      <th>WatCon</th>\n",
       "      <th>Engle</th>\n",
       "      <th>Unemp</th>\n",
       "      <th>PopDen</th>\n",
       "      <th>GradeII</th>\n",
       "      <th>SolWas</th>\n",
       "      <th>WasWater</th>\n",
       "      <th>ConWas</th>\n",
       "      <th>PubBus</th>\n",
       "      <th>PasInt</th>\n",
       "    </tr>\n",
       "    <tr>\n",
       "      <th>City</th>\n",
       "      <th></th>\n",
       "      <th></th>\n",
       "      <th></th>\n",
       "      <th></th>\n",
       "      <th></th>\n",
       "      <th></th>\n",
       "      <th></th>\n",
       "      <th></th>\n",
       "      <th></th>\n",
       "      <th></th>\n",
       "      <th></th>\n",
       "      <th></th>\n",
       "      <th></th>\n",
       "      <th></th>\n",
       "      <th></th>\n",
       "    </tr>\n",
       "  </thead>\n",
       "  <tbody>\n",
       "    <tr>\n",
       "      <th>Beijing</th>\n",
       "      <td>0.893634</td>\n",
       "      <td>1.000000</td>\n",
       "      <td>0.554920</td>\n",
       "      <td>1.000000</td>\n",
       "      <td>0.466294</td>\n",
       "      <td>0.849516</td>\n",
       "      <td>0.517706</td>\n",
       "      <td>1.000000</td>\n",
       "      <td>0.847562</td>\n",
       "      <td>0.328413</td>\n",
       "      <td>0.804689</td>\n",
       "      <td>0.598266</td>\n",
       "      <td>0.579581</td>\n",
       "      <td>0.159141</td>\n",
       "      <td>0.106449</td>\n",
       "    </tr>\n",
       "    <tr>\n",
       "      <th>Tianjin</th>\n",
       "      <td>0.817083</td>\n",
       "      <td>0.498335</td>\n",
       "      <td>0.392968</td>\n",
       "      <td>0.300174</td>\n",
       "      <td>0.160638</td>\n",
       "      <td>0.897654</td>\n",
       "      <td>0.417939</td>\n",
       "      <td>0.214286</td>\n",
       "      <td>0.829570</td>\n",
       "      <td>0.354244</td>\n",
       "      <td>0.982734</td>\n",
       "      <td>1.000000</td>\n",
       "      <td>0.555371</td>\n",
       "      <td>0.099644</td>\n",
       "      <td>0.041950</td>\n",
       "    </tr>\n",
       "    <tr>\n",
       "      <th>Shijiazhuang</th>\n",
       "      <td>0.599517</td>\n",
       "      <td>0.561820</td>\n",
       "      <td>0.356321</td>\n",
       "      <td>0.448893</td>\n",
       "      <td>0.278362</td>\n",
       "      <td>0.963315</td>\n",
       "      <td>0.781277</td>\n",
       "      <td>0.175000</td>\n",
       "      <td>0.691098</td>\n",
       "      <td>0.066421</td>\n",
       "      <td>0.922382</td>\n",
       "      <td>0.880058</td>\n",
       "      <td>0.380647</td>\n",
       "      <td>0.080405</td>\n",
       "      <td>0.049464</td>\n",
       "    </tr>\n",
       "    <tr>\n",
       "      <th>Qinhuangdao</th>\n",
       "      <td>0.659952</td>\n",
       "      <td>0.558269</td>\n",
       "      <td>0.458958</td>\n",
       "      <td>0.672470</td>\n",
       "      <td>1.000000</td>\n",
       "      <td>0.811938</td>\n",
       "      <td>0.879188</td>\n",
       "      <td>0.260714</td>\n",
       "      <td>0.705688</td>\n",
       "      <td>0.590406</td>\n",
       "      <td>0.445588</td>\n",
       "      <td>0.953179</td>\n",
       "      <td>1.000000</td>\n",
       "      <td>0.051713</td>\n",
       "      <td>0.026325</td>\n",
       "    </tr>\n",
       "    <tr>\n",
       "      <th>Baoding</th>\n",
       "      <td>0.651894</td>\n",
       "      <td>0.567148</td>\n",
       "      <td>0.413456</td>\n",
       "      <td>0.000000</td>\n",
       "      <td>0.138770</td>\n",
       "      <td>0.950802</td>\n",
       "      <td>1.000000</td>\n",
       "      <td>0.028571</td>\n",
       "      <td>0.379772</td>\n",
       "      <td>0.000000</td>\n",
       "      <td>0.781403</td>\n",
       "      <td>0.751156</td>\n",
       "      <td>0.455508</td>\n",
       "      <td>0.186165</td>\n",
       "      <td>0.035300</td>\n",
       "    </tr>\n",
       "  </tbody>\n",
       "</table>\n",
       "</div>"
      ],
      "text/plain": [
       "               EnerCon        RD      Loan    TerInd    PubSpa    WatCon  \\\n",
       "City                                                                       \n",
       "Beijing       0.893634  1.000000  0.554920  1.000000  0.466294  0.849516   \n",
       "Tianjin       0.817083  0.498335  0.392968  0.300174  0.160638  0.897654   \n",
       "Shijiazhuang  0.599517  0.561820  0.356321  0.448893  0.278362  0.963315   \n",
       "Qinhuangdao   0.659952  0.558269  0.458958  0.672470  1.000000  0.811938   \n",
       "Baoding       0.651894  0.567148  0.413456  0.000000  0.138770  0.950802   \n",
       "\n",
       "                 Engle     Unemp    PopDen   GradeII    SolWas  WasWater  \\\n",
       "City                                                                       \n",
       "Beijing       0.517706  1.000000  0.847562  0.328413  0.804689  0.598266   \n",
       "Tianjin       0.417939  0.214286  0.829570  0.354244  0.982734  1.000000   \n",
       "Shijiazhuang  0.781277  0.175000  0.691098  0.066421  0.922382  0.880058   \n",
       "Qinhuangdao   0.879188  0.260714  0.705688  0.590406  0.445588  0.953179   \n",
       "Baoding       1.000000  0.028571  0.379772  0.000000  0.781403  0.751156   \n",
       "\n",
       "                ConWas    PubBus    PasInt  \n",
       "City                                        \n",
       "Beijing       0.579581  0.159141  0.106449  \n",
       "Tianjin       0.555371  0.099644  0.041950  \n",
       "Shijiazhuang  0.380647  0.080405  0.049464  \n",
       "Qinhuangdao   1.000000  0.051713  0.026325  \n",
       "Baoding       0.455508  0.186165  0.035300  "
      ]
     },
     "execution_count": 3,
     "metadata": {},
     "output_type": "execute_result"
    }
   ],
   "source": [
    "data_path = os.path.join(os.path.abspath('..'), 'data', 'normalized_data.csv')\n",
    "\n",
    "if os.path.exists(data_path):\n",
    "    print('File path:', data_path)\n",
    "else:\n",
    "    print('Check the path')\n",
    "    \n",
    "data = pd.read_csv(data_path, index_col = 0)\n",
    "data.head()"
   ]
  },
  {
   "cell_type": "code",
   "execution_count": 5,
   "metadata": {},
   "outputs": [
    {
     "data": {
      "text/plain": [
       "Index(['Beijing', 'Tianjin', 'Shijiazhuang', 'Qinhuangdao', 'Baoding',\n",
       "       'Taiyuan', 'Hohhot', 'Shenyang', 'Dalian', 'Changchun', 'Harbin',\n",
       "       'Shanghai', 'Nanjing', 'Suzhou', 'Zhenjiang', 'Hangzhou', 'Ningbo',\n",
       "       'Wenzhou', 'Hefei', 'Fuzhou', 'Xiamen', 'Nanchang', 'Jinan', 'Qingdao',\n",
       "       'Zhengzhou', 'Wuhan', 'Changsha', 'Guangzhou', 'Shenzhen', 'Nanning',\n",
       "       'Guilin', 'Haikou', 'Chongqing', 'Chengdu', 'Guiyang', 'Zunyi',\n",
       "       'Kunming', 'Xi’an', 'Lanzhou', 'Urumqi'],\n",
       "      dtype='object', name='City')"
      ]
     },
     "execution_count": 5,
     "metadata": {},
     "output_type": "execute_result"
    }
   ],
   "source": [
    "data.index"
   ]
  },
  {
   "cell_type": "markdown",
   "metadata": {},
   "source": [
    "# Lollipop plot\n",
    "## Urumqi and Harbin"
   ]
  },
  {
   "cell_type": "code",
   "execution_count": 4,
   "metadata": {},
   "outputs": [
    {
     "data": {
      "text/html": [
       "<div>\n",
       "<style>\n",
       "    .dataframe thead tr:only-child th {\n",
       "        text-align: right;\n",
       "    }\n",
       "\n",
       "    .dataframe thead th {\n",
       "        text-align: left;\n",
       "    }\n",
       "\n",
       "    .dataframe tbody tr th {\n",
       "        vertical-align: top;\n",
       "    }\n",
       "</style>\n",
       "<table border=\"1\" class=\"dataframe\">\n",
       "  <thead>\n",
       "    <tr style=\"text-align: right;\">\n",
       "      <th>City</th>\n",
       "      <th>Urumqi</th>\n",
       "      <th>Harbin</th>\n",
       "    </tr>\n",
       "  </thead>\n",
       "  <tbody>\n",
       "    <tr>\n",
       "      <th>EnerCon</th>\n",
       "      <td>0.740532</td>\n",
       "      <td>0.941579</td>\n",
       "    </tr>\n",
       "    <tr>\n",
       "      <th>RD</th>\n",
       "      <td>0.595782</td>\n",
       "      <td>0.451942</td>\n",
       "    </tr>\n",
       "    <tr>\n",
       "      <th>Loan</th>\n",
       "      <td>0.491706</td>\n",
       "      <td>0.541075</td>\n",
       "    </tr>\n",
       "    <tr>\n",
       "      <th>TerInd</th>\n",
       "      <td>0.613529</td>\n",
       "      <td>0.571251</td>\n",
       "    </tr>\n",
       "    <tr>\n",
       "      <th>PubSpa</th>\n",
       "      <td>0.106379</td>\n",
       "      <td>0.056067</td>\n",
       "    </tr>\n",
       "  </tbody>\n",
       "</table>\n",
       "</div>"
      ],
      "text/plain": [
       "City       Urumqi    Harbin\n",
       "EnerCon  0.740532  0.941579\n",
       "RD       0.595782  0.451942\n",
       "Loan     0.491706  0.541075\n",
       "TerInd   0.613529  0.571251\n",
       "PubSpa   0.106379  0.056067"
      ]
     },
     "execution_count": 4,
     "metadata": {},
     "output_type": "execute_result"
    }
   ],
   "source": [
    "compa_city = data.loc[['Urumqi', 'Harbin']].T\n",
    "compa_city.head()"
   ]
  },
  {
   "cell_type": "code",
   "execution_count": 5,
   "metadata": {},
   "outputs": [
    {
     "data": {
      "text/plain": [
       "range(1, 16)"
      ]
     },
     "execution_count": 5,
     "metadata": {},
     "output_type": "execute_result"
    }
   ],
   "source": [
    "my_range = range(1, len(compa_city.index)+1)\n",
    "my_range"
   ]
  },
  {
   "cell_type": "code",
   "execution_count": 6,
   "metadata": {
    "collapsed": true
   },
   "outputs": [],
   "source": [
    "ordered_gh = compa_city.sort_values(by = 'Urumqi')"
   ]
  },
  {
   "cell_type": "code",
   "execution_count": 160,
   "metadata": {},
   "outputs": [
    {
     "data": {
      "image/png": "[encoded data removed]",
      "text/plain": [
       "<matplotlib.figure.Figure at 0x1168f3978>"
      ]
     },
     "metadata": {
      "image/png": {
       "height": 365,
       "width": 518
      }
     },
     "output_type": "display_data"
    }
   ],
   "source": [
    "fig, ax = plt.subplots(figsize = (8, 6))\n",
    "font = {'family' : 'serif', \n",
    "        'color'  : 'k', \n",
    "        'weight' : 'normal',\n",
    "        'size'   : 8\n",
    "       }\n",
    "\n",
    "sns.set_style('ticks')\n",
    "\n",
    "ax.hlines(y = my_range,\n",
    "          xmin = ordered_gh['Urumqi'],\n",
    "          xmax = ordered_gh['Harbin'],\n",
    "          color = 'grey', alpha=0.4)\n",
    "\n",
    "ax.scatter(ordered_gh['Urumqi'], my_range, color = 'skyblue',\n",
    "           alpha = 1, label = 'Urumqi')\n",
    "ax.scatter(ordered_gh['Harbin'], my_range, color = 'green',\n",
    "           alpha = 1, label = 'Harbin')\n",
    "ax.legend(prop = {'family' : 'serif',\n",
    "                  'weight' : 'normal',\n",
    "                  'size'   : 8\n",
    "                 })\n",
    "\n",
    "plt.yticks(my_range, ordered_gh.index)\n",
    "ax.set_yticklabels(list(ordered_gh.index),\n",
    "                   fontdict=font)\n",
    "ax.set_xticklabels(ax.get_xticks(), fontdict = font)\n",
    "plt.show()"
   ]
  },
  {
   "cell_type": "code",
   "execution_count": 121,
   "metadata": {
    "collapsed": true
   },
   "outputs": [],
   "source": [
    "fig.savefig('../results/fig_lollipop_Urumqi_Harbin.pdf', bbox_inches='tight')"
   ]
  },
  {
   "cell_type": "code",
   "execution_count": 112,
   "metadata": {
    "collapsed": true
   },
   "outputs": [],
   "source": [
    "ax.legend?"
   ]
  },
  {
   "cell_type": "markdown",
   "metadata": {},
   "source": [
    "## Harbin and Wuhan"
   ]
  },
  {
   "cell_type": "code",
   "execution_count": 7,
   "metadata": {
    "collapsed": true
   },
   "outputs": [],
   "source": [
    "compa_city_2 = data.loc[['Dalian', 'Lanzhou']].T\n",
    "compa_city_2.head()\n",
    "\n",
    "my_range_2 = range(1, len(compa_city_2.index)+1)\n",
    "\n",
    "ordered_gh_2 = compa_city_2.sort_values(by = 'Dalian')"
   ]
  },
  {
   "cell_type": "code",
   "execution_count": 131,
   "metadata": {},
   "outputs": [
    {
     "data": {
      "image/png": "[encoded data removed]",
      "text/plain": [
       "<matplotlib.figure.Figure at 0x11501b3c8>"
      ]
     },
     "metadata": {
      "image/png": {
       "height": 365,
       "width": 518
      }
     },
     "output_type": "display_data"
    }
   ],
   "source": [
    "fig2, ax2 = plt.subplots(figsize = (8, 6))\n",
    "# font = {'family' : 'serif', \n",
    "#         'color'  : 'k', \n",
    "#         'weight' : 'normal',\n",
    "#         'size'   : 8\n",
    "#        }\n",
    "\n",
    "# sns.set_style('ticks')\n",
    "\n",
    "ax2.hlines(y = my_range_2,\n",
    "          xmin = ordered_gh_2['Dalian'],\n",
    "          xmax = ordered_gh_2['Lanzhou'],\n",
    "          color = 'grey', alpha=0.4)\n",
    "\n",
    "ax2.scatter(ordered_gh_2['Dalian'], my_range, color = 'skyblue',\n",
    "            alpha = 1, label = 'Dalian')\n",
    "ax2.scatter(ordered_gh_2['Lanzhou'], my_range, color = 'green',\n",
    "            alpha = 1, label = 'Lanzhou')\n",
    "ax2.legend(prop = {'family' : 'serif',\n",
    "                   'weight' : 'normal',\n",
    "                   'size'   : 8\n",
    "                  })\n",
    "\n",
    "plt.yticks(my_range_2, ordered_gh_2.index)\n",
    "ax2.set_yticklabels(list(ordered_gh.index),\n",
    "                    fontdict=font)\n",
    "ax2.set_xticklabels(ax.get_xticks(), fontdict = font)\n",
    "plt.show()"
   ]
  },
  {
   "cell_type": "code",
   "execution_count": 132,
   "metadata": {
    "collapsed": true
   },
   "outputs": [],
   "source": [
    "fig2.savefig('../results/fig_lollipop_Zunyi_Changsha.pdf', bbox_inches='tight')"
   ]
  },
  {
   "cell_type": "code",
   "execution_count": 8,
   "metadata": {},
   "outputs": [
    {
     "data": {
      "image/png": "[encoded data removed]",
      "text/plain": [
       "<matplotlib.figure.Figure at 0x110d88128>"
      ]
     },
     "metadata": {
      "image/png": {
       "height": 417,
       "width": 1137
      }
     },
     "output_type": "display_data"
    }
   ],
   "source": [
    "font = {'family' : 'serif', \n",
    "        'color'  : 'k', \n",
    "        'weight' : 'normal',\n",
    "        'size'   : 8\n",
    "       }\n",
    "\n",
    "sns.set_style('ticks')\n",
    "\n",
    "fig3 = plt.figure(num = 1, figsize = (16, 6))\n",
    "ax1 = plt.subplot(121)\n",
    "\n",
    "ax1.hlines(y = my_range,\n",
    "           xmin = ordered_gh['Urumqi'],\n",
    "           xmax = ordered_gh['Harbin'],\n",
    "           color = 'grey', alpha=0.4)\n",
    "\n",
    "ax1.scatter(ordered_gh['Urumqi'], my_range, color = 'skyblue',\n",
    "           alpha = 1, label = 'Urumqi')\n",
    "ax1.scatter(ordered_gh['Harbin'], my_range, color = 'green',\n",
    "           alpha = 1, label = 'Harbin')\n",
    "ax1.legend(loc = 2, prop = {'family' : 'serif',\n",
    "                            'weight' : 'normal',\n",
    "                            'size'   : 8\n",
    "                           })\n",
    "\n",
    "plt.yticks(my_range, ordered_gh.index)\n",
    "ax1.set_yticklabels(list(ordered_gh.index),\n",
    "                   fontdict=font)\n",
    "ax1.set_xticklabels(ax1.get_xticks(), fontdict = font)\n",
    "# plt.show()\n",
    "\n",
    "ax3 = plt.subplot(122)\n",
    "ax3.hlines(y = my_range_2,\n",
    "          xmin = ordered_gh_2['Dalian'],\n",
    "          xmax = ordered_gh_2['Lanzhou'],\n",
    "          color = 'grey', alpha=0.4)\n",
    "\n",
    "ax3.scatter(ordered_gh_2['Dalian'], my_range, color = 'Orange',\n",
    "            alpha = 1, label = 'Dalian')\n",
    "ax3.scatter(ordered_gh_2['Lanzhou'], my_range, color = 'Red',\n",
    "            alpha = 1, label = 'Lanzhou')\n",
    "ax3.legend(loc = 2, prop = {'family' : 'serif',\n",
    "                            'weight' : 'normal',\n",
    "                            'size'   : 8\n",
    "                           })\n",
    "\n",
    "plt.yticks(my_range_2, ordered_gh_2.index)\n",
    "ax3.set_yticklabels(list(ordered_gh_2.index),\n",
    "                    fontdict=font)\n",
    "ax3.set_xticklabels(ax3.get_xticks(), fontdict = font)\n",
    "\n",
    "plt.tight_layout()\n",
    "# plt.show()"
   ]
  },
  {
   "cell_type": "code",
   "execution_count": 12,
   "metadata": {
    "collapsed": true
   },
   "outputs": [],
   "source": [
    "fig3.savefig('../results/fig_lollipop.pdf', bbox_inches='tight')"
   ]
  },
  {
   "cell_type": "code",
   "execution_count": 13,
   "metadata": {},
   "outputs": [
    {
     "data": {
      "text/plain": [
       "0.10637948043406782"
      ]
     },
     "execution_count": 13,
     "metadata": {},
     "output_type": "execute_result"
    }
   ],
   "source": [
    "ordered_gh.iloc[0, 0]"
   ]
  },
  {
   "cell_type": "code",
   "execution_count": 20,
   "metadata": {},
   "outputs": [],
   "source": [
    "Group = pd.Series(index = ordered_gh.index)"
   ]
  },
  {
   "cell_type": "code",
   "execution_count": 22,
   "metadata": {},
   "outputs": [],
   "source": [
    "ordered_gh['Group'] = Group"
   ]
  },
  {
   "cell_type": "code",
   "execution_count": 23,
   "metadata": {},
   "outputs": [
    {
     "data": {
      "text/html": [
       "<div>\n",
       "<style>\n",
       "    .dataframe thead tr:only-child th {\n",
       "        text-align: right;\n",
       "    }\n",
       "\n",
       "    .dataframe thead th {\n",
       "        text-align: left;\n",
       "    }\n",
       "\n",
       "    .dataframe tbody tr th {\n",
       "        vertical-align: top;\n",
       "    }\n",
       "</style>\n",
       "<table border=\"1\" class=\"dataframe\">\n",
       "  <thead>\n",
       "    <tr style=\"text-align: right;\">\n",
       "      <th>City</th>\n",
       "      <th>Urumqi</th>\n",
       "      <th>Harbin</th>\n",
       "      <th>Group</th>\n",
       "    </tr>\n",
       "  </thead>\n",
       "  <tbody>\n",
       "    <tr>\n",
       "      <th>PubSpa</th>\n",
       "      <td>0.106379</td>\n",
       "      <td>0.056067</td>\n",
       "      <td>NaN</td>\n",
       "    </tr>\n",
       "    <tr>\n",
       "      <th>PasInt</th>\n",
       "      <td>0.125682</td>\n",
       "      <td>0.070402</td>\n",
       "      <td>NaN</td>\n",
       "    </tr>\n",
       "    <tr>\n",
       "      <th>PubBus</th>\n",
       "      <td>0.145351</td>\n",
       "      <td>0.097642</td>\n",
       "      <td>NaN</td>\n",
       "    </tr>\n",
       "    <tr>\n",
       "      <th>Unemp</th>\n",
       "      <td>0.192857</td>\n",
       "      <td>0.142857</td>\n",
       "      <td>NaN</td>\n",
       "    </tr>\n",
       "    <tr>\n",
       "      <th>GradeII</th>\n",
       "      <td>0.453875</td>\n",
       "      <td>0.597786</td>\n",
       "      <td>NaN</td>\n",
       "    </tr>\n",
       "    <tr>\n",
       "      <th>WasWater</th>\n",
       "      <td>0.479191</td>\n",
       "      <td>0.690751</td>\n",
       "      <td>NaN</td>\n",
       "    </tr>\n",
       "    <tr>\n",
       "      <th>Loan</th>\n",
       "      <td>0.491706</td>\n",
       "      <td>0.541075</td>\n",
       "      <td>NaN</td>\n",
       "    </tr>\n",
       "    <tr>\n",
       "      <th>ConWas</th>\n",
       "      <td>0.527920</td>\n",
       "      <td>0.481663</td>\n",
       "      <td>NaN</td>\n",
       "    </tr>\n",
       "    <tr>\n",
       "      <th>Engle</th>\n",
       "      <td>0.539917</td>\n",
       "      <td>0.412691</td>\n",
       "      <td>NaN</td>\n",
       "    </tr>\n",
       "    <tr>\n",
       "      <th>RD</th>\n",
       "      <td>0.595782</td>\n",
       "      <td>0.451942</td>\n",
       "      <td>NaN</td>\n",
       "    </tr>\n",
       "    <tr>\n",
       "      <th>TerInd</th>\n",
       "      <td>0.613529</td>\n",
       "      <td>0.571251</td>\n",
       "      <td>NaN</td>\n",
       "    </tr>\n",
       "    <tr>\n",
       "      <th>EnerCon</th>\n",
       "      <td>0.740532</td>\n",
       "      <td>0.941579</td>\n",
       "      <td>NaN</td>\n",
       "    </tr>\n",
       "    <tr>\n",
       "      <th>WatCon</th>\n",
       "      <td>0.861189</td>\n",
       "      <td>0.950363</td>\n",
       "      <td>NaN</td>\n",
       "    </tr>\n",
       "    <tr>\n",
       "      <th>SolWas</th>\n",
       "      <td>0.899572</td>\n",
       "      <td>0.969428</td>\n",
       "      <td>NaN</td>\n",
       "    </tr>\n",
       "    <tr>\n",
       "      <th>PopDen</th>\n",
       "      <td>1.000000</td>\n",
       "      <td>0.920829</td>\n",
       "      <td>NaN</td>\n",
       "    </tr>\n",
       "  </tbody>\n",
       "</table>\n",
       "</div>"
      ],
      "text/plain": [
       "City        Urumqi    Harbin  Group\n",
       "PubSpa    0.106379  0.056067    NaN\n",
       "PasInt    0.125682  0.070402    NaN\n",
       "PubBus    0.145351  0.097642    NaN\n",
       "Unemp     0.192857  0.142857    NaN\n",
       "GradeII   0.453875  0.597786    NaN\n",
       "WasWater  0.479191  0.690751    NaN\n",
       "Loan      0.491706  0.541075    NaN\n",
       "ConWas    0.527920  0.481663    NaN\n",
       "Engle     0.539917  0.412691    NaN\n",
       "RD        0.595782  0.451942    NaN\n",
       "TerInd    0.613529  0.571251    NaN\n",
       "EnerCon   0.740532  0.941579    NaN\n",
       "WatCon    0.861189  0.950363    NaN\n",
       "SolWas    0.899572  0.969428    NaN\n",
       "PopDen    1.000000  0.920829    NaN"
      ]
     },
     "execution_count": 23,
     "metadata": {},
     "output_type": "execute_result"
    }
   ],
   "source": [
    "ordered_gh"
   ]
  },
  {
   "cell_type": "code",
   "execution_count": 24,
   "metadata": {},
   "outputs": [],
   "source": [
    "for row in range(len(ordered_gh)):\n",
    "    ordered_gh['Group'][row] = ordered_gh.iloc[row, 0]- ordered_gh.iloc[row, 1]\n",
    "    "
   ]
  },
  {
   "cell_type": "code",
   "execution_count": 25,
   "metadata": {},
   "outputs": [
    {
     "data": {
      "text/html": [
       "<div>\n",
       "<style>\n",
       "    .dataframe thead tr:only-child th {\n",
       "        text-align: right;\n",
       "    }\n",
       "\n",
       "    .dataframe thead th {\n",
       "        text-align: left;\n",
       "    }\n",
       "\n",
       "    .dataframe tbody tr th {\n",
       "        vertical-align: top;\n",
       "    }\n",
       "</style>\n",
       "<table border=\"1\" class=\"dataframe\">\n",
       "  <thead>\n",
       "    <tr style=\"text-align: right;\">\n",
       "      <th>City</th>\n",
       "      <th>Urumqi</th>\n",
       "      <th>Harbin</th>\n",
       "      <th>Group</th>\n",
       "    </tr>\n",
       "  </thead>\n",
       "  <tbody>\n",
       "    <tr>\n",
       "      <th>PubSpa</th>\n",
       "      <td>0.106379</td>\n",
       "      <td>0.056067</td>\n",
       "      <td>0.050312</td>\n",
       "    </tr>\n",
       "    <tr>\n",
       "      <th>PasInt</th>\n",
       "      <td>0.125682</td>\n",
       "      <td>0.070402</td>\n",
       "      <td>0.055280</td>\n",
       "    </tr>\n",
       "    <tr>\n",
       "      <th>PubBus</th>\n",
       "      <td>0.145351</td>\n",
       "      <td>0.097642</td>\n",
       "      <td>0.047709</td>\n",
       "    </tr>\n",
       "    <tr>\n",
       "      <th>Unemp</th>\n",
       "      <td>0.192857</td>\n",
       "      <td>0.142857</td>\n",
       "      <td>0.050000</td>\n",
       "    </tr>\n",
       "    <tr>\n",
       "      <th>GradeII</th>\n",
       "      <td>0.453875</td>\n",
       "      <td>0.597786</td>\n",
       "      <td>-0.143911</td>\n",
       "    </tr>\n",
       "    <tr>\n",
       "      <th>WasWater</th>\n",
       "      <td>0.479191</td>\n",
       "      <td>0.690751</td>\n",
       "      <td>-0.211561</td>\n",
       "    </tr>\n",
       "    <tr>\n",
       "      <th>Loan</th>\n",
       "      <td>0.491706</td>\n",
       "      <td>0.541075</td>\n",
       "      <td>-0.049369</td>\n",
       "    </tr>\n",
       "    <tr>\n",
       "      <th>ConWas</th>\n",
       "      <td>0.527920</td>\n",
       "      <td>0.481663</td>\n",
       "      <td>0.046257</td>\n",
       "    </tr>\n",
       "    <tr>\n",
       "      <th>Engle</th>\n",
       "      <td>0.539917</td>\n",
       "      <td>0.412691</td>\n",
       "      <td>0.127226</td>\n",
       "    </tr>\n",
       "    <tr>\n",
       "      <th>RD</th>\n",
       "      <td>0.595782</td>\n",
       "      <td>0.451942</td>\n",
       "      <td>0.143840</td>\n",
       "    </tr>\n",
       "    <tr>\n",
       "      <th>TerInd</th>\n",
       "      <td>0.613529</td>\n",
       "      <td>0.571251</td>\n",
       "      <td>0.042278</td>\n",
       "    </tr>\n",
       "    <tr>\n",
       "      <th>EnerCon</th>\n",
       "      <td>0.740532</td>\n",
       "      <td>0.941579</td>\n",
       "      <td>-0.201048</td>\n",
       "    </tr>\n",
       "    <tr>\n",
       "      <th>WatCon</th>\n",
       "      <td>0.861189</td>\n",
       "      <td>0.950363</td>\n",
       "      <td>-0.089174</td>\n",
       "    </tr>\n",
       "    <tr>\n",
       "      <th>SolWas</th>\n",
       "      <td>0.899572</td>\n",
       "      <td>0.969428</td>\n",
       "      <td>-0.069856</td>\n",
       "    </tr>\n",
       "    <tr>\n",
       "      <th>PopDen</th>\n",
       "      <td>1.000000</td>\n",
       "      <td>0.920829</td>\n",
       "      <td>0.079171</td>\n",
       "    </tr>\n",
       "  </tbody>\n",
       "</table>\n",
       "</div>"
      ],
      "text/plain": [
       "City        Urumqi    Harbin     Group\n",
       "PubSpa    0.106379  0.056067  0.050312\n",
       "PasInt    0.125682  0.070402  0.055280\n",
       "PubBus    0.145351  0.097642  0.047709\n",
       "Unemp     0.192857  0.142857  0.050000\n",
       "GradeII   0.453875  0.597786 -0.143911\n",
       "WasWater  0.479191  0.690751 -0.211561\n",
       "Loan      0.491706  0.541075 -0.049369\n",
       "ConWas    0.527920  0.481663  0.046257\n",
       "Engle     0.539917  0.412691  0.127226\n",
       "RD        0.595782  0.451942  0.143840\n",
       "TerInd    0.613529  0.571251  0.042278\n",
       "EnerCon   0.740532  0.941579 -0.201048\n",
       "WatCon    0.861189  0.950363 -0.089174\n",
       "SolWas    0.899572  0.969428 -0.069856\n",
       "PopDen    1.000000  0.920829  0.079171"
      ]
     },
     "execution_count": 25,
     "metadata": {},
     "output_type": "execute_result"
    }
   ],
   "source": [
    "ordered_gh"
   ]
  },
  {
   "cell_type": "code",
   "execution_count": 30,
   "metadata": {},
   "outputs": [
    {
     "name": "stdout",
     "output_type": "stream",
     "text": [
      "File path: /Users/rolf/Downloads/noncomp/rank/data/threshold_reference.csv\n"
     ]
    },
    {
     "data": {
      "text/html": [
       "<div>\n",
       "<style>\n",
       "    .dataframe thead tr:only-child th {\n",
       "        text-align: right;\n",
       "    }\n",
       "\n",
       "    .dataframe thead th {\n",
       "        text-align: left;\n",
       "    }\n",
       "\n",
       "    .dataframe tbody tr th {\n",
       "        vertical-align: top;\n",
       "    }\n",
       "</style>\n",
       "<table border=\"1\" class=\"dataframe\">\n",
       "  <thead>\n",
       "    <tr style=\"text-align: right;\">\n",
       "      <th></th>\n",
       "      <th>Preference threshold</th>\n",
       "      <th>Indifference threshold</th>\n",
       "    </tr>\n",
       "  </thead>\n",
       "  <tbody>\n",
       "    <tr>\n",
       "      <th>EnerCon</th>\n",
       "      <td>0.779009</td>\n",
       "      <td>0.651894</td>\n",
       "    </tr>\n",
       "    <tr>\n",
       "      <th>RD</th>\n",
       "      <td>0.383130</td>\n",
       "      <td>0.214650</td>\n",
       "    </tr>\n",
       "    <tr>\n",
       "      <th>Loan</th>\n",
       "      <td>0.416950</td>\n",
       "      <td>0.175335</td>\n",
       "    </tr>\n",
       "    <tr>\n",
       "      <th>TerInd</th>\n",
       "      <td>0.321251</td>\n",
       "      <td>0.000000</td>\n",
       "    </tr>\n",
       "    <tr>\n",
       "      <th>PubSpa</th>\n",
       "      <td>0.115751</td>\n",
       "      <td>0.051134</td>\n",
       "    </tr>\n",
       "  </tbody>\n",
       "</table>\n",
       "</div>"
      ],
      "text/plain": [
       "         Preference threshold  Indifference threshold\n",
       "EnerCon              0.779009                0.651894\n",
       "RD                   0.383130                0.214650\n",
       "Loan                 0.416950                0.175335\n",
       "TerInd               0.321251                0.000000\n",
       "PubSpa               0.115751                0.051134"
      ]
     },
     "execution_count": 30,
     "metadata": {},
     "output_type": "execute_result"
    }
   ],
   "source": [
    "threshold_path = os.path.join(os.path.abspath('..'), 'data', 'threshold_reference.csv')\n",
    "\n",
    "if os.path.exists(threshold_path):\n",
    "    print('File path:', threshold_path)\n",
    "else:\n",
    "    print('Check the path')\n",
    "    \n",
    "threshold = pd.read_csv(threshold_path, index_col = 0)\n",
    "threshold = threshold.T\n",
    "threshold.head()"
   ]
  },
  {
   "cell_type": "code",
   "execution_count": 31,
   "metadata": {
    "collapsed": true
   },
   "outputs": [],
   "source": [
    "ordered_gh[['Preference', 'Indifference']] = threshold"
   ]
  },
  {
   "cell_type": "code",
   "execution_count": 32,
   "metadata": {},
   "outputs": [
    {
     "data": {
      "text/html": [
       "<div>\n",
       "<style>\n",
       "    .dataframe thead tr:only-child th {\n",
       "        text-align: right;\n",
       "    }\n",
       "\n",
       "    .dataframe thead th {\n",
       "        text-align: left;\n",
       "    }\n",
       "\n",
       "    .dataframe tbody tr th {\n",
       "        vertical-align: top;\n",
       "    }\n",
       "</style>\n",
       "<table border=\"1\" class=\"dataframe\">\n",
       "  <thead>\n",
       "    <tr style=\"text-align: right;\">\n",
       "      <th>City</th>\n",
       "      <th>Urumqi</th>\n",
       "      <th>Harbin</th>\n",
       "      <th>Group</th>\n",
       "      <th>Preference</th>\n",
       "      <th>Indifference</th>\n",
       "    </tr>\n",
       "  </thead>\n",
       "  <tbody>\n",
       "    <tr>\n",
       "      <th>PubSpa</th>\n",
       "      <td>0.106379</td>\n",
       "      <td>0.056067</td>\n",
       "      <td>0.050312</td>\n",
       "      <td>0.115751</td>\n",
       "      <td>0.051134</td>\n",
       "    </tr>\n",
       "    <tr>\n",
       "      <th>PasInt</th>\n",
       "      <td>0.125682</td>\n",
       "      <td>0.070402</td>\n",
       "      <td>0.055280</td>\n",
       "      <td>0.043927</td>\n",
       "      <td>0.000000</td>\n",
       "    </tr>\n",
       "    <tr>\n",
       "      <th>PubBus</th>\n",
       "      <td>0.145351</td>\n",
       "      <td>0.097642</td>\n",
       "      <td>0.047709</td>\n",
       "      <td>0.079932</td>\n",
       "      <td>0.000000</td>\n",
       "    </tr>\n",
       "    <tr>\n",
       "      <th>Unemp</th>\n",
       "      <td>0.192857</td>\n",
       "      <td>0.142857</td>\n",
       "      <td>0.050000</td>\n",
       "      <td>0.214286</td>\n",
       "      <td>0.000000</td>\n",
       "    </tr>\n",
       "    <tr>\n",
       "      <th>GradeII</th>\n",
       "      <td>0.453875</td>\n",
       "      <td>0.597786</td>\n",
       "      <td>-0.143911</td>\n",
       "      <td>0.407749</td>\n",
       "      <td>0.000000</td>\n",
       "    </tr>\n",
       "    <tr>\n",
       "      <th>WasWater</th>\n",
       "      <td>0.479191</td>\n",
       "      <td>0.690751</td>\n",
       "      <td>-0.211561</td>\n",
       "      <td>0.596460</td>\n",
       "      <td>0.283815</td>\n",
       "    </tr>\n",
       "    <tr>\n",
       "      <th>Loan</th>\n",
       "      <td>0.491706</td>\n",
       "      <td>0.541075</td>\n",
       "      <td>-0.049369</td>\n",
       "      <td>0.416950</td>\n",
       "      <td>0.175335</td>\n",
       "    </tr>\n",
       "    <tr>\n",
       "      <th>ConWas</th>\n",
       "      <td>0.527920</td>\n",
       "      <td>0.481663</td>\n",
       "      <td>0.046257</td>\n",
       "      <td>0.536584</td>\n",
       "      <td>0.481663</td>\n",
       "    </tr>\n",
       "    <tr>\n",
       "      <th>Engle</th>\n",
       "      <td>0.539917</td>\n",
       "      <td>0.412691</td>\n",
       "      <td>0.127226</td>\n",
       "      <td>0.378181</td>\n",
       "      <td>0.000000</td>\n",
       "    </tr>\n",
       "    <tr>\n",
       "      <th>RD</th>\n",
       "      <td>0.595782</td>\n",
       "      <td>0.451942</td>\n",
       "      <td>0.143840</td>\n",
       "      <td>0.383130</td>\n",
       "      <td>0.214650</td>\n",
       "    </tr>\n",
       "    <tr>\n",
       "      <th>TerInd</th>\n",
       "      <td>0.613529</td>\n",
       "      <td>0.571251</td>\n",
       "      <td>0.042278</td>\n",
       "      <td>0.321251</td>\n",
       "      <td>0.000000</td>\n",
       "    </tr>\n",
       "    <tr>\n",
       "      <th>EnerCon</th>\n",
       "      <td>0.740532</td>\n",
       "      <td>0.941579</td>\n",
       "      <td>-0.201048</td>\n",
       "      <td>0.779009</td>\n",
       "      <td>0.651894</td>\n",
       "    </tr>\n",
       "    <tr>\n",
       "      <th>WatCon</th>\n",
       "      <td>0.861189</td>\n",
       "      <td>0.950363</td>\n",
       "      <td>-0.089174</td>\n",
       "      <td>0.804843</td>\n",
       "      <td>0.652279</td>\n",
       "    </tr>\n",
       "    <tr>\n",
       "      <th>SolWas</th>\n",
       "      <td>0.899572</td>\n",
       "      <td>0.969428</td>\n",
       "      <td>-0.069856</td>\n",
       "      <td>0.778631</td>\n",
       "      <td>0.632029</td>\n",
       "    </tr>\n",
       "    <tr>\n",
       "      <th>PopDen</th>\n",
       "      <td>1.000000</td>\n",
       "      <td>0.920829</td>\n",
       "      <td>0.079171</td>\n",
       "      <td>0.702564</td>\n",
       "      <td>0.462638</td>\n",
       "    </tr>\n",
       "  </tbody>\n",
       "</table>\n",
       "</div>"
      ],
      "text/plain": [
       "City        Urumqi    Harbin     Group  Preference  Indifference\n",
       "PubSpa    0.106379  0.056067  0.050312    0.115751      0.051134\n",
       "PasInt    0.125682  0.070402  0.055280    0.043927      0.000000\n",
       "PubBus    0.145351  0.097642  0.047709    0.079932      0.000000\n",
       "Unemp     0.192857  0.142857  0.050000    0.214286      0.000000\n",
       "GradeII   0.453875  0.597786 -0.143911    0.407749      0.000000\n",
       "WasWater  0.479191  0.690751 -0.211561    0.596460      0.283815\n",
       "Loan      0.491706  0.541075 -0.049369    0.416950      0.175335\n",
       "ConWas    0.527920  0.481663  0.046257    0.536584      0.481663\n",
       "Engle     0.539917  0.412691  0.127226    0.378181      0.000000\n",
       "RD        0.595782  0.451942  0.143840    0.383130      0.214650\n",
       "TerInd    0.613529  0.571251  0.042278    0.321251      0.000000\n",
       "EnerCon   0.740532  0.941579 -0.201048    0.779009      0.651894\n",
       "WatCon    0.861189  0.950363 -0.089174    0.804843      0.652279\n",
       "SolWas    0.899572  0.969428 -0.069856    0.778631      0.632029\n",
       "PopDen    1.000000  0.920829  0.079171    0.702564      0.462638"
      ]
     },
     "execution_count": 32,
     "metadata": {},
     "output_type": "execute_result"
    }
   ],
   "source": [
    "ordered_gh"
   ]
  },
  {
   "cell_type": "code",
   "execution_count": 34,
   "metadata": {},
   "outputs": [
    {
     "data": {
      "text/plain": [
       "PubSpa    NaN\n",
       "PasInt    NaN\n",
       "PubBus    NaN\n",
       "Unemp     NaN\n",
       "GradeII   NaN\n",
       "dtype: float64"
      ]
     },
     "execution_count": 34,
     "metadata": {},
     "output_type": "execute_result"
    }
   ],
   "source": [
    "relation = pd.Series(index = ordered_gh.index)\n",
    "relation.head()"
   ]
  },
  {
   "cell_type": "code",
   "execution_count": 35,
   "metadata": {},
   "outputs": [
    {
     "data": {
      "text/html": [
       "<div>\n",
       "<style>\n",
       "    .dataframe thead tr:only-child th {\n",
       "        text-align: right;\n",
       "    }\n",
       "\n",
       "    .dataframe thead th {\n",
       "        text-align: left;\n",
       "    }\n",
       "\n",
       "    .dataframe tbody tr th {\n",
       "        vertical-align: top;\n",
       "    }\n",
       "</style>\n",
       "<table border=\"1\" class=\"dataframe\">\n",
       "  <thead>\n",
       "    <tr style=\"text-align: right;\">\n",
       "      <th>City</th>\n",
       "      <th>Urumqi</th>\n",
       "      <th>Harbin</th>\n",
       "      <th>Group</th>\n",
       "      <th>Preference</th>\n",
       "      <th>Indifference</th>\n",
       "      <th>Relation</th>\n",
       "    </tr>\n",
       "  </thead>\n",
       "  <tbody>\n",
       "    <tr>\n",
       "      <th>PubSpa</th>\n",
       "      <td>0.106379</td>\n",
       "      <td>0.056067</td>\n",
       "      <td>0.050312</td>\n",
       "      <td>0.115751</td>\n",
       "      <td>0.051134</td>\n",
       "      <td>NaN</td>\n",
       "    </tr>\n",
       "    <tr>\n",
       "      <th>PasInt</th>\n",
       "      <td>0.125682</td>\n",
       "      <td>0.070402</td>\n",
       "      <td>0.055280</td>\n",
       "      <td>0.043927</td>\n",
       "      <td>0.000000</td>\n",
       "      <td>NaN</td>\n",
       "    </tr>\n",
       "    <tr>\n",
       "      <th>PubBus</th>\n",
       "      <td>0.145351</td>\n",
       "      <td>0.097642</td>\n",
       "      <td>0.047709</td>\n",
       "      <td>0.079932</td>\n",
       "      <td>0.000000</td>\n",
       "      <td>NaN</td>\n",
       "    </tr>\n",
       "    <tr>\n",
       "      <th>Unemp</th>\n",
       "      <td>0.192857</td>\n",
       "      <td>0.142857</td>\n",
       "      <td>0.050000</td>\n",
       "      <td>0.214286</td>\n",
       "      <td>0.000000</td>\n",
       "      <td>NaN</td>\n",
       "    </tr>\n",
       "    <tr>\n",
       "      <th>GradeII</th>\n",
       "      <td>0.453875</td>\n",
       "      <td>0.597786</td>\n",
       "      <td>-0.143911</td>\n",
       "      <td>0.407749</td>\n",
       "      <td>0.000000</td>\n",
       "      <td>NaN</td>\n",
       "    </tr>\n",
       "  </tbody>\n",
       "</table>\n",
       "</div>"
      ],
      "text/plain": [
       "City       Urumqi    Harbin     Group  Preference  Indifference  Relation\n",
       "PubSpa   0.106379  0.056067  0.050312    0.115751      0.051134       NaN\n",
       "PasInt   0.125682  0.070402  0.055280    0.043927      0.000000       NaN\n",
       "PubBus   0.145351  0.097642  0.047709    0.079932      0.000000       NaN\n",
       "Unemp    0.192857  0.142857  0.050000    0.214286      0.000000       NaN\n",
       "GradeII  0.453875  0.597786 -0.143911    0.407749      0.000000       NaN"
      ]
     },
     "execution_count": 35,
     "metadata": {},
     "output_type": "execute_result"
    }
   ],
   "source": [
    "ordered_gh['Relation']  = relation\n",
    "ordered_gh.head()"
   ]
  },
  {
   "cell_type": "code",
   "execution_count": 38,
   "metadata": {},
   "outputs": [],
   "source": [
    "for row in range(len(ordered_gh)):\n",
    "    if np.absolute(ordered_gh.iloc[row, 2]) <= ordered_gh.iloc[row, 4]:\n",
    "        ordered_gh.iloc[row, 5] = 1\n",
    "    elif ordered_gh.iloc[row, 0] > ordered_gh.iloc[row, 1] and np.absolute(ordered_gh.iloc[row, 2]) > ordered_gh.iloc[row,3]:\n",
    "        ordered_gh.iloc[row, 5] = 2\n",
    "    elif  ordered_gh.iloc[row,4] < np.absolute(ordered_gh.iloc[row, 2]) <= ordered_gh.iloc[row,3]:\n",
    "        ordered_gh.iloc[row, 5] = 3"
   ]
  },
  {
   "cell_type": "code",
   "execution_count": 39,
   "metadata": {},
   "outputs": [
    {
     "data": {
      "text/html": [
       "<div>\n",
       "<style>\n",
       "    .dataframe thead tr:only-child th {\n",
       "        text-align: right;\n",
       "    }\n",
       "\n",
       "    .dataframe thead th {\n",
       "        text-align: left;\n",
       "    }\n",
       "\n",
       "    .dataframe tbody tr th {\n",
       "        vertical-align: top;\n",
       "    }\n",
       "</style>\n",
       "<table border=\"1\" class=\"dataframe\">\n",
       "  <thead>\n",
       "    <tr style=\"text-align: right;\">\n",
       "      <th>City</th>\n",
       "      <th>Urumqi</th>\n",
       "      <th>Harbin</th>\n",
       "      <th>Group</th>\n",
       "      <th>Preference</th>\n",
       "      <th>Indifference</th>\n",
       "      <th>Relation</th>\n",
       "    </tr>\n",
       "  </thead>\n",
       "  <tbody>\n",
       "    <tr>\n",
       "      <th>PubSpa</th>\n",
       "      <td>0.106379</td>\n",
       "      <td>0.056067</td>\n",
       "      <td>0.050312</td>\n",
       "      <td>0.115751</td>\n",
       "      <td>0.051134</td>\n",
       "      <td>1.0</td>\n",
       "    </tr>\n",
       "    <tr>\n",
       "      <th>PasInt</th>\n",
       "      <td>0.125682</td>\n",
       "      <td>0.070402</td>\n",
       "      <td>0.055280</td>\n",
       "      <td>0.043927</td>\n",
       "      <td>0.000000</td>\n",
       "      <td>2.0</td>\n",
       "    </tr>\n",
       "    <tr>\n",
       "      <th>PubBus</th>\n",
       "      <td>0.145351</td>\n",
       "      <td>0.097642</td>\n",
       "      <td>0.047709</td>\n",
       "      <td>0.079932</td>\n",
       "      <td>0.000000</td>\n",
       "      <td>3.0</td>\n",
       "    </tr>\n",
       "    <tr>\n",
       "      <th>Unemp</th>\n",
       "      <td>0.192857</td>\n",
       "      <td>0.142857</td>\n",
       "      <td>0.050000</td>\n",
       "      <td>0.214286</td>\n",
       "      <td>0.000000</td>\n",
       "      <td>3.0</td>\n",
       "    </tr>\n",
       "    <tr>\n",
       "      <th>GradeII</th>\n",
       "      <td>0.453875</td>\n",
       "      <td>0.597786</td>\n",
       "      <td>-0.143911</td>\n",
       "      <td>0.407749</td>\n",
       "      <td>0.000000</td>\n",
       "      <td>3.0</td>\n",
       "    </tr>\n",
       "    <tr>\n",
       "      <th>WasWater</th>\n",
       "      <td>0.479191</td>\n",
       "      <td>0.690751</td>\n",
       "      <td>-0.211561</td>\n",
       "      <td>0.596460</td>\n",
       "      <td>0.283815</td>\n",
       "      <td>1.0</td>\n",
       "    </tr>\n",
       "    <tr>\n",
       "      <th>Loan</th>\n",
       "      <td>0.491706</td>\n",
       "      <td>0.541075</td>\n",
       "      <td>-0.049369</td>\n",
       "      <td>0.416950</td>\n",
       "      <td>0.175335</td>\n",
       "      <td>1.0</td>\n",
       "    </tr>\n",
       "    <tr>\n",
       "      <th>ConWas</th>\n",
       "      <td>0.527920</td>\n",
       "      <td>0.481663</td>\n",
       "      <td>0.046257</td>\n",
       "      <td>0.536584</td>\n",
       "      <td>0.481663</td>\n",
       "      <td>1.0</td>\n",
       "    </tr>\n",
       "    <tr>\n",
       "      <th>Engle</th>\n",
       "      <td>0.539917</td>\n",
       "      <td>0.412691</td>\n",
       "      <td>0.127226</td>\n",
       "      <td>0.378181</td>\n",
       "      <td>0.000000</td>\n",
       "      <td>3.0</td>\n",
       "    </tr>\n",
       "    <tr>\n",
       "      <th>RD</th>\n",
       "      <td>0.595782</td>\n",
       "      <td>0.451942</td>\n",
       "      <td>0.143840</td>\n",
       "      <td>0.383130</td>\n",
       "      <td>0.214650</td>\n",
       "      <td>1.0</td>\n",
       "    </tr>\n",
       "    <tr>\n",
       "      <th>TerInd</th>\n",
       "      <td>0.613529</td>\n",
       "      <td>0.571251</td>\n",
       "      <td>0.042278</td>\n",
       "      <td>0.321251</td>\n",
       "      <td>0.000000</td>\n",
       "      <td>3.0</td>\n",
       "    </tr>\n",
       "    <tr>\n",
       "      <th>EnerCon</th>\n",
       "      <td>0.740532</td>\n",
       "      <td>0.941579</td>\n",
       "      <td>-0.201048</td>\n",
       "      <td>0.779009</td>\n",
       "      <td>0.651894</td>\n",
       "      <td>1.0</td>\n",
       "    </tr>\n",
       "    <tr>\n",
       "      <th>WatCon</th>\n",
       "      <td>0.861189</td>\n",
       "      <td>0.950363</td>\n",
       "      <td>-0.089174</td>\n",
       "      <td>0.804843</td>\n",
       "      <td>0.652279</td>\n",
       "      <td>1.0</td>\n",
       "    </tr>\n",
       "    <tr>\n",
       "      <th>SolWas</th>\n",
       "      <td>0.899572</td>\n",
       "      <td>0.969428</td>\n",
       "      <td>-0.069856</td>\n",
       "      <td>0.778631</td>\n",
       "      <td>0.632029</td>\n",
       "      <td>1.0</td>\n",
       "    </tr>\n",
       "    <tr>\n",
       "      <th>PopDen</th>\n",
       "      <td>1.000000</td>\n",
       "      <td>0.920829</td>\n",
       "      <td>0.079171</td>\n",
       "      <td>0.702564</td>\n",
       "      <td>0.462638</td>\n",
       "      <td>1.0</td>\n",
       "    </tr>\n",
       "  </tbody>\n",
       "</table>\n",
       "</div>"
      ],
      "text/plain": [
       "City        Urumqi    Harbin     Group  Preference  Indifference  Relation\n",
       "PubSpa    0.106379  0.056067  0.050312    0.115751      0.051134       1.0\n",
       "PasInt    0.125682  0.070402  0.055280    0.043927      0.000000       2.0\n",
       "PubBus    0.145351  0.097642  0.047709    0.079932      0.000000       3.0\n",
       "Unemp     0.192857  0.142857  0.050000    0.214286      0.000000       3.0\n",
       "GradeII   0.453875  0.597786 -0.143911    0.407749      0.000000       3.0\n",
       "WasWater  0.479191  0.690751 -0.211561    0.596460      0.283815       1.0\n",
       "Loan      0.491706  0.541075 -0.049369    0.416950      0.175335       1.0\n",
       "ConWas    0.527920  0.481663  0.046257    0.536584      0.481663       1.0\n",
       "Engle     0.539917  0.412691  0.127226    0.378181      0.000000       3.0\n",
       "RD        0.595782  0.451942  0.143840    0.383130      0.214650       1.0\n",
       "TerInd    0.613529  0.571251  0.042278    0.321251      0.000000       3.0\n",
       "EnerCon   0.740532  0.941579 -0.201048    0.779009      0.651894       1.0\n",
       "WatCon    0.861189  0.950363 -0.089174    0.804843      0.652279       1.0\n",
       "SolWas    0.899572  0.969428 -0.069856    0.778631      0.632029       1.0\n",
       "PopDen    1.000000  0.920829  0.079171    0.702564      0.462638       1.0"
      ]
     },
     "execution_count": 39,
     "metadata": {},
     "output_type": "execute_result"
    }
   ],
   "source": [
    "ordered_gh = "
   ]
  },
  {
   "cell_type": "code",
   "execution_count": 41,
   "metadata": {},
   "outputs": [
    {
     "data": {
      "text/html": [
       "<div>\n",
       "<style>\n",
       "    .dataframe thead tr:only-child th {\n",
       "        text-align: right;\n",
       "    }\n",
       "\n",
       "    .dataframe thead th {\n",
       "        text-align: left;\n",
       "    }\n",
       "\n",
       "    .dataframe tbody tr th {\n",
       "        vertical-align: top;\n",
       "    }\n",
       "</style>\n",
       "<table border=\"1\" class=\"dataframe\">\n",
       "  <thead>\n",
       "    <tr style=\"text-align: right;\">\n",
       "      <th>City</th>\n",
       "      <th>Urumqi</th>\n",
       "      <th>Harbin</th>\n",
       "      <th>Relation</th>\n",
       "    </tr>\n",
       "  </thead>\n",
       "  <tbody>\n",
       "    <tr>\n",
       "      <th>PubSpa</th>\n",
       "      <td>0.106379</td>\n",
       "      <td>0.056067</td>\n",
       "      <td>1.0</td>\n",
       "    </tr>\n",
       "    <tr>\n",
       "      <th>PasInt</th>\n",
       "      <td>0.125682</td>\n",
       "      <td>0.070402</td>\n",
       "      <td>2.0</td>\n",
       "    </tr>\n",
       "    <tr>\n",
       "      <th>PubBus</th>\n",
       "      <td>0.145351</td>\n",
       "      <td>0.097642</td>\n",
       "      <td>3.0</td>\n",
       "    </tr>\n",
       "    <tr>\n",
       "      <th>Unemp</th>\n",
       "      <td>0.192857</td>\n",
       "      <td>0.142857</td>\n",
       "      <td>3.0</td>\n",
       "    </tr>\n",
       "    <tr>\n",
       "      <th>GradeII</th>\n",
       "      <td>0.453875</td>\n",
       "      <td>0.597786</td>\n",
       "      <td>3.0</td>\n",
       "    </tr>\n",
       "    <tr>\n",
       "      <th>WasWater</th>\n",
       "      <td>0.479191</td>\n",
       "      <td>0.690751</td>\n",
       "      <td>1.0</td>\n",
       "    </tr>\n",
       "    <tr>\n",
       "      <th>Loan</th>\n",
       "      <td>0.491706</td>\n",
       "      <td>0.541075</td>\n",
       "      <td>1.0</td>\n",
       "    </tr>\n",
       "    <tr>\n",
       "      <th>ConWas</th>\n",
       "      <td>0.527920</td>\n",
       "      <td>0.481663</td>\n",
       "      <td>1.0</td>\n",
       "    </tr>\n",
       "    <tr>\n",
       "      <th>Engle</th>\n",
       "      <td>0.539917</td>\n",
       "      <td>0.412691</td>\n",
       "      <td>3.0</td>\n",
       "    </tr>\n",
       "    <tr>\n",
       "      <th>RD</th>\n",
       "      <td>0.595782</td>\n",
       "      <td>0.451942</td>\n",
       "      <td>1.0</td>\n",
       "    </tr>\n",
       "    <tr>\n",
       "      <th>TerInd</th>\n",
       "      <td>0.613529</td>\n",
       "      <td>0.571251</td>\n",
       "      <td>3.0</td>\n",
       "    </tr>\n",
       "    <tr>\n",
       "      <th>EnerCon</th>\n",
       "      <td>0.740532</td>\n",
       "      <td>0.941579</td>\n",
       "      <td>1.0</td>\n",
       "    </tr>\n",
       "    <tr>\n",
       "      <th>WatCon</th>\n",
       "      <td>0.861189</td>\n",
       "      <td>0.950363</td>\n",
       "      <td>1.0</td>\n",
       "    </tr>\n",
       "    <tr>\n",
       "      <th>SolWas</th>\n",
       "      <td>0.899572</td>\n",
       "      <td>0.969428</td>\n",
       "      <td>1.0</td>\n",
       "    </tr>\n",
       "    <tr>\n",
       "      <th>PopDen</th>\n",
       "      <td>1.000000</td>\n",
       "      <td>0.920829</td>\n",
       "      <td>1.0</td>\n",
       "    </tr>\n",
       "  </tbody>\n",
       "</table>\n",
       "</div>"
      ],
      "text/plain": [
       "City        Urumqi    Harbin  Relation\n",
       "PubSpa    0.106379  0.056067       1.0\n",
       "PasInt    0.125682  0.070402       2.0\n",
       "PubBus    0.145351  0.097642       3.0\n",
       "Unemp     0.192857  0.142857       3.0\n",
       "GradeII   0.453875  0.597786       3.0\n",
       "WasWater  0.479191  0.690751       1.0\n",
       "Loan      0.491706  0.541075       1.0\n",
       "ConWas    0.527920  0.481663       1.0\n",
       "Engle     0.539917  0.412691       3.0\n",
       "RD        0.595782  0.451942       1.0\n",
       "TerInd    0.613529  0.571251       3.0\n",
       "EnerCon   0.740532  0.941579       1.0\n",
       "WatCon    0.861189  0.950363       1.0\n",
       "SolWas    0.899572  0.969428       1.0\n",
       "PopDen    1.000000  0.920829       1.0"
      ]
     },
     "execution_count": 41,
     "metadata": {},
     "output_type": "execute_result"
    }
   ],
   "source": [
    "ordered_gh = ordered_gh.drop(['Group', 'Preference', 'Indifference'], axis = 1)\n",
    "ordered_gh"
   ]
  },
  {
   "cell_type": "code",
   "execution_count": 74,
   "metadata": {},
   "outputs": [
    {
     "data": {
      "text/plain": [
       "<matplotlib.legend.Legend at 0x118904d30>"
      ]
     },
     "execution_count": 74,
     "metadata": {},
     "output_type": "execute_result"
    },
    {
     "data": {
      "image/png": "[encoded data removed]",
      "text/plain": [
       "<matplotlib.figure.Figure at 0x117e90f28>"
      ]
     },
     "metadata": {
      "image/png": {
       "height": 338,
       "width": 487
      }
     },
     "output_type": "display_data"
    }
   ],
   "source": [
    "figure, axes = plt.subplots()\n",
    "\n",
    "# my_color=np.where(ordered_df['Relation']== 1., 'orange', 'skyblue')\n",
    "\n",
    "axes.hlines(y = my_range,\n",
    "           xmin = ordered_gh['Urumqi'],\n",
    "           xmax = ordered_gh['Harbin'],\n",
    "           alpha=0.4, facecolors = my_color)\n",
    "\n",
    "axes.scatter(ordered_gh['Urumqi'], my_range, color = 'skyblue',\n",
    "           alpha = 1, label = 'Urumqi')\n",
    "axes.scatter(ordered_gh['Harbin'], my_range, color = 'green',\n",
    "           alpha = 1, label = 'Harbin')\n",
    "axes.legend(loc = 2, prop = {'family' : 'serif',\n",
    "                            'weight' : 'normal',\n",
    "                            'size'   : 8\n",
    "                           })"
   ]
  },
  {
   "cell_type": "code",
   "execution_count": 46,
   "metadata": {
    "collapsed": true
   },
   "outputs": [],
   "source": [
    "np.where?"
   ]
  },
  {
   "cell_type": "code",
   "execution_count": 63,
   "metadata": {
    "collapsed": true
   },
   "outputs": [],
   "source": [
    "my_color = [None] * len(ordered_gh.index)"
   ]
  },
  {
   "cell_type": "code",
   "execution_count": 64,
   "metadata": {},
   "outputs": [],
   "source": [
    "for row in range(len(ordered_gh.index)):\n",
    "    if ordered_gh.iloc[row, 2] == 1.:\n",
    "        my_color[row] = 'black'\n",
    "    elif ordered_gh.iloc[row, 2] == 2.:\n",
    "        my_color[row] = 'red'\n",
    "    else:\n",
    "        my_color[row] = 'blue'"
   ]
  },
  {
   "cell_type": "code",
   "execution_count": 65,
   "metadata": {},
   "outputs": [
    {
     "data": {
      "text/plain": [
       "['black',\n",
       " 'red',\n",
       " 'blue',\n",
       " 'blue',\n",
       " 'blue',\n",
       " 'black',\n",
       " 'black',\n",
       " 'black',\n",
       " 'blue',\n",
       " 'black',\n",
       " 'blue',\n",
       " 'black',\n",
       " 'black',\n",
       " 'black',\n",
       " 'black']"
      ]
     },
     "execution_count": 65,
     "metadata": {},
     "output_type": "execute_result"
    }
   ],
   "source": [
    "my_color"
   ]
  },
  {
   "cell_type": "code",
   "execution_count": 69,
   "metadata": {
    "collapsed": true
   },
   "outputs": [],
   "source": [
    "\n",
    "\n",
    "x = np.linspace(0.1, 2*np.pi, 10)\n"
   ]
  },
  {
   "cell_type": "code",
   "execution_count": 70,
   "metadata": {},
   "outputs": [
    {
     "data": {
      "text/plain": [
       "array([ 0.1       ,  0.78702059,  1.47404118,  2.16106177,  2.84808236,\n",
       "        3.53510295,  4.22212354,  4.90914413,  5.59616472,  6.28318531])"
      ]
     },
     "execution_count": 70,
     "metadata": {},
     "output_type": "execute_result"
    }
   ],
   "source": [
    "x\n"
   ]
  },
  {
   "cell_type": "code",
   "execution_count": 71,
   "metadata": {},
   "outputs": [
    {
     "data": {
      "image/png": "[encoded data removed]",
      "text/plain": [
       "<matplotlib.figure.Figure at 0x11646c780>"
      ]
     },
     "metadata": {
      "image/png": {
       "height": 338,
       "width": 502
      }
     },
     "output_type": "display_data"
    }
   ],
   "source": [
    "markerline, stemlines, baseline = plt.stem(x, np.cos(x), '-.')\n"
   ]
  },
  {
   "cell_type": "code",
   "execution_count": 73,
   "metadata": {
    "collapsed": true
   },
   "outputs": [],
   "source": [
    "plt.hlines?"
   ]
  },
  {
   "cell_type": "code",
   "execution_count": null,
   "metadata": {
    "collapsed": true
   },
   "outputs": [],
   "source": []
  }
 ],
 "metadata": {
  "kernelspec": {
   "display_name": "Python 3",
   "language": "python",
   "name": "python3"
  },
  "language_info": {
   "codemirror_mode": {
    "name": "ipython",
    "version": 3
   },
   "file_extension": ".py",
   "mimetype": "text/x-python",
   "name": "python",
   "nbconvert_exporter": "python",
   "pygments_lexer": "ipython3",
   "version": "3.6.1"
  }
 },
 "nbformat": 4,
 "nbformat_minor": 2
}
